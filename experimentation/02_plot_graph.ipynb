{
 "cells": [
  {
   "cell_type": "code",
   "execution_count": 1,
   "metadata": {},
   "outputs": [],
   "source": [
    "import networkx as nx"
   ]
  },
  {
   "cell_type": "markdown",
   "metadata": {},
   "source": [
    "## Relatioship graph mock"
   ]
  },
  {
   "cell_type": "code",
   "execution_count": 2,
   "metadata": {},
   "outputs": [],
   "source": [
    "character_to_page = {\n",
    "    'Ursula': 1,\n",
    "    'Jose Arcadio Buendia': 2,\n",
    "    'Jose Arcadio': 10,\n",
    "    'Aureliano': 35,\n",
    "    'Receba': 70\n",
    "}"
   ]
  },
  {
   "cell_type": "code",
   "execution_count": 3,
   "metadata": {},
   "outputs": [],
   "source": [
    "relationship_graph = {\n",
    "    'Ursula': [('Jose Arcadio Buendia', 'esposa'), ('Jose Arcadio', 'mae'), ('Aureliano', 'mae'), ('Rebeca', 'mae')],\n",
    "    'Jose Arcadio Buendia': [('Ursula', 'marido'), ('Jose Arcadio', 'pai'), ('Aureliano', 'pai'), ('Rebeca', 'pai')],\n",
    "    'Jose Arcadio': [('Ursula', 'filho'), ('Jose Arcadio Buendia', 'filho'), ('Aureliano', 'irmao'), ('Rebeca', 'irmao')],\n",
    "    'Aureliano': [('Ursula', 'filho'), ('Jose Arcadio Buendia', 'filho'), ('Jose Arcadio', 'irmao'), ('Rebeca', 'irmao')],\n",
    "    'Rebeca': [('Ursula', 'filha'), ('Jose Arcadio Buendia', 'filha'), ('Aureliano', 'irma'), ('Jose Arcadio', 'irma')],\n",
    "}"
   ]
  },
  {
   "cell_type": "code",
   "execution_count": 4,
   "metadata": {},
   "outputs": [],
   "source": [
    "characters = relationship_graph.keys()"
   ]
  },
  {
   "cell_type": "code",
   "execution_count": 5,
   "metadata": {},
   "outputs": [],
   "source": [
    "edges = [(a,b[0]) for a, v in relationship_graph.items() for b in v]"
   ]
  },
  {
   "cell_type": "code",
   "execution_count": 6,
   "metadata": {},
   "outputs": [],
   "source": [
    "edge_labels = {(a,b[0]):b[1] for a, v in relationship_graph.items() for b in v}"
   ]
  },
  {
   "cell_type": "code",
   "execution_count": 7,
   "metadata": {},
   "outputs": [],
   "source": [
    "g = nx.DiGraph()\n",
    "g.add_nodes_from(characters)\n",
    "g.add_edges_from(edges)"
   ]
  },
  {
   "cell_type": "markdown",
   "metadata": {},
   "source": [
    "## Complete graph"
   ]
  },
  {
   "cell_type": "code",
   "execution_count": 17,
   "metadata": {},
   "outputs": [
    {
     "data": {
      "application/vnd.jupyter.widget-view+json": {
       "model_id": "683cdd369215486881ac50815a14da16",
       "version_major": 2,
       "version_minor": 0
      },
      "text/plain": [
       "Canvas(toolbar=Toolbar(toolitems=[('Home', 'Reset original view', 'home', 'home'), ('Back', 'Back to previous …"
      ]
     },
     "metadata": {},
     "output_type": "display_data"
    }
   ],
   "source": [
    "import matplotlib\n",
    "from matplotlib import pyplot as plt\n",
    "\n",
    "def plot_graph(g, edge_labels):\n",
    "    options = {\n",
    "        'node_color': 'lightBlue',\n",
    "        'node_size': 5000,\n",
    "        'width': 1,\n",
    "        'arrowstyle': '->',\n",
    "        'arrowsize': 10,\n",
    "    }\n",
    "    edge_labels = {(n1, n2):v for (n1, n2),v in edge_labels.items() if n1 in g.nodes() and n2 in g.nodes()}\n",
    "\n",
    "    pos = nx.kamada_kawai_layout(g)\n",
    "    plt.figure(figsize=(12,8))\n",
    "    plt.axis('off')\n",
    "    nx.draw(g, pos, **options, labels={node:node for node in g.nodes()})\n",
    "    nx.draw_networkx_edge_labels(g, pos, edge_labels=edge_labels, font_color='red')\n",
    "    plt.show()\n",
    "    \n",
    "plot_graph(g, edge_labels)"
   ]
  },
  {
   "cell_type": "markdown",
   "metadata": {},
   "source": [
    "## Subgraph with 2 characters"
   ]
  },
  {
   "cell_type": "code",
   "execution_count": 9,
   "metadata": {},
   "outputs": [
    {
     "data": {
      "application/vnd.jupyter.widget-view+json": {
       "model_id": "2a3116e7522c4aa79713b3708df2915f",
       "version_major": 2,
       "version_minor": 0
      },
      "text/plain": [
       "Canvas(toolbar=Toolbar(toolitems=[('Home', 'Reset original view', 'home', 'home'), ('Back', 'Back to previous …"
      ]
     },
     "metadata": {},
     "output_type": "display_data"
    }
   ],
   "source": [
    "plot_graph(g.subgraph(['Ursula', 'Rebeca']), edge_labels)"
   ]
  },
  {
   "cell_type": "markdown",
   "metadata": {},
   "source": [
    "## Graph by pages"
   ]
  },
  {
   "cell_type": "code",
   "execution_count": 10,
   "metadata": {},
   "outputs": [],
   "source": [
    "def get_subgraph_until_page(page):\n",
    "    characters_to_show = [c for c, p in character_to_page.items() if p < page]\n",
    "    return g.subgraph(characters_to_show)"
   ]
  },
  {
   "cell_type": "code",
   "execution_count": 11,
   "metadata": {},
   "outputs": [
    {
     "data": {
      "application/vnd.jupyter.widget-view+json": {
       "model_id": "a0dfa946c6d345e5abdbbd41cb5b49a2",
       "version_major": 2,
       "version_minor": 0
      },
      "text/plain": [
       "VBox(children=(IntSlider(value=10, continuous_update=False, description='Until page', min=1),))"
      ]
     },
     "metadata": {},
     "output_type": "display_data"
    }
   ],
   "source": [
    "%matplotlib widget\n",
    "import ipympl\n",
    "import ipywidgets as widgets\n",
    "\n",
    "slider = widgets.IntSlider(description='Until page', value=10, min=1, max=100, step=1, continuous_update=False)\n",
    "\n",
    "def plot_graph_at_page(*ignore):\n",
    "    page = slider.value\n",
    "    subgraph = get_subgraph_until_page(page)\n",
    "    plot_graph(subgraph, edge_labels)\n",
    "\n",
    "slider.observe(plot_graph_at_page, 'value')\n",
    "\n",
    "widgets.VBox([slider])"
   ]
  },
  {
   "cell_type": "markdown",
   "metadata": {},
   "source": [
    "## Interactive plot example"
   ]
  },
  {
   "cell_type": "code",
   "execution_count": 12,
   "metadata": {},
   "outputs": [
    {
     "data": {
      "application/vnd.jupyter.widget-view+json": {
       "model_id": "3d6afd41d56f4be9a5588dec041c671f",
       "version_major": 2,
       "version_minor": 0
      },
      "text/plain": [
       "Canvas(toolbar=Toolbar(toolitems=[('Home', 'Reset original view', 'home', 'home'), ('Back', 'Back to previous …"
      ]
     },
     "metadata": {},
     "output_type": "display_data"
    },
    {
     "data": {
      "application/vnd.jupyter.widget-view+json": {
       "model_id": "40dca3923cc2429ca2b615892eab4c56",
       "version_major": 2,
       "version_minor": 0
      },
      "text/plain": [
       "IntSlider(value=1, continuous_update=False, description='$\\\\omega$', max=10)"
      ]
     },
     "metadata": {},
     "output_type": "display_data"
    }
   ],
   "source": [
    "%matplotlib widget\n",
    "import ipympl\n",
    "\n",
    "import numpy as np\n",
    "\n",
    "x = np.linspace(0, 2 * np.pi, 100)\n",
    " \n",
    "fig, ax = plt.subplots()\n",
    "line, = ax.plot(x, np.sin(x))\n",
    "ax.grid(True)\n",
    " \n",
    "def update(change):\n",
    "    line.set_ydata(np.sin(change.new * x))\n",
    "    fig.canvas.draw()\n",
    "     \n",
    "int_slider = widgets.IntSlider(\n",
    "    value=1, \n",
    "    min=0, max=10, step=1,\n",
    "    description='$\\omega$',\n",
    "    continuous_update=False\n",
    ")\n",
    "int_slider.observe(update, 'value')\n",
    "int_slider"
   ]
  },
  {
   "cell_type": "code",
   "execution_count": null,
   "metadata": {},
   "outputs": [],
   "source": []
  },
  {
   "cell_type": "code",
   "execution_count": null,
   "metadata": {},
   "outputs": [],
   "source": [
    "import graphviz as gviz\n",
    "\n",
    "for c1, relations in relationship_graph.items():\n",
    "    for r in relations:\n",
    "        c2, label = r\n",
    "        if character_to_page[c1] < page and character_to_page[c2] < page:\n",
    "            graph.edge(c1, c2, label=label)\n",
    "return graph"
   ]
  }
 ],
 "metadata": {
  "kernelspec": {
   "display_name": "Python 3",
   "language": "python",
   "name": "python3"
  },
  "language_info": {
   "codemirror_mode": {
    "name": "ipython",
    "version": 3
   },
   "file_extension": ".py",
   "mimetype": "text/x-python",
   "name": "python",
   "nbconvert_exporter": "python",
   "pygments_lexer": "ipython3",
   "version": "3.7.0"
  },
  "widgets": {
   "application/vnd.jupyter.widget-state+json": {
    "state": {},
    "version_major": 2,
    "version_minor": 0
   }
  }
 },
 "nbformat": 4,
 "nbformat_minor": 4
}