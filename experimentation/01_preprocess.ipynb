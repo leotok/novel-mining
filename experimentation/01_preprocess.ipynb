{
 "cells": [
  {
   "cell_type": "markdown",
   "metadata": {},
   "source": [
    "# Relationship network extraction"
   ]
  },
  {
   "cell_type": "markdown",
   "metadata": {},
   "source": [
    "### References:\n",
    "\n",
    "- https://archive.org/stream/OneHundredYearsOfSolitude_201710/One_Hundred_Years_of_Solitude_djvu.txt\n",
    "- https://spacy.io/usage/spacy-101\n",
    "- https://spacy.io/api/annotation#named-entities"
   ]
  },
  {
   "cell_type": "code",
   "execution_count": 1,
   "metadata": {},
   "outputs": [],
   "source": [
    "import pandas as pd\n",
    "import re\n",
    "import spacy"
   ]
  },
  {
   "cell_type": "code",
   "execution_count": 2,
   "metadata": {},
   "outputs": [],
   "source": [
    "#!python -m spacy download en_core_web_sm"
   ]
  },
  {
   "cell_type": "code",
   "execution_count": 356,
   "metadata": {},
   "outputs": [],
   "source": [
    "def get_chapters(book: str) -> [str]:\n",
    "    return [c.strip() for c in re.split('Chapter \\d', book)][1:]\n",
    "\n",
    "def get_pages(book):\n",
    "    pages = []\n",
    "    last_page_end = 0\n",
    "    for p in re.finditer('\\n(\\d+) \\\\n?', book):\n",
    "        pages.append((book[last_page_end:p.end()], {\n",
    "        'start': p.start(), \n",
    "        'end': p.end(),\n",
    "        'page': int(p.groups()[0])\n",
    "        }))\n",
    "        last_page_end = p.end()\n",
    "    return pages\n"
   ]
  },
  {
   "cell_type": "markdown",
   "metadata": {},
   "source": [
    "## Load book"
   ]
  },
  {
   "cell_type": "code",
   "execution_count": 4,
   "metadata": {},
   "outputs": [],
   "source": [
    "book_path = '../data/one_hundred_years_of_solitude_EN.txt'\n",
    "\n",
    "with open(book_path, 'r') as f:\n",
    "    book = f.read()"
   ]
  },
  {
   "cell_type": "code",
   "execution_count": 353,
   "metadata": {},
   "outputs": [],
   "source": [
    "chapters = get_chapters(book)"
   ]
  },
  {
   "cell_type": "code",
   "execution_count": 354,
   "metadata": {},
   "outputs": [
    {
     "data": {
      "text/plain": [
       "(821643, 20)"
      ]
     },
     "execution_count": 354,
     "metadata": {},
     "output_type": "execute_result"
    }
   ],
   "source": [
    "len(book), len(chapters)"
   ]
  },
  {
   "cell_type": "code",
   "execution_count": 355,
   "metadata": {},
   "outputs": [],
   "source": [
    "pages = get_pages(book)"
   ]
  },
  {
   "cell_type": "markdown",
   "metadata": {},
   "source": [
    "## Parsing chapters and pages"
   ]
  },
  {
   "cell_type": "code",
   "execution_count": 370,
   "metadata": {},
   "outputs": [],
   "source": [
    "from spacy.tokens import Doc, Span, Token\n",
    "from spacy.matcher import PhraseMatcher, Matcher"
   ]
  },
  {
   "cell_type": "code",
   "execution_count": 349,
   "metadata": {},
   "outputs": [],
   "source": [
    "Token.set_extension(\"page\", default=None, force=True)\n",
    "Doc.set_extension(\"page\", default=None, force=True)"
   ]
  },
  {
   "cell_type": "code",
   "execution_count": 422,
   "metadata": {},
   "outputs": [],
   "source": [
    "nlp = spacy.load(\"en_core_web_sm\")"
   ]
  },
  {
   "cell_type": "code",
   "execution_count": 423,
   "metadata": {},
   "outputs": [],
   "source": [
    "docs = []\n",
    "\n",
    "for doc, context in nlp.pipe(pages, as_tuples=True):\n",
    "    doc._.page = context[\"page\"]\n",
    "    for t in doc:\n",
    "        t._.page = context[\"page\"]\n",
    "    \n",
    "    docs.append(doc)"
   ]
  },
  {
   "cell_type": "code",
   "execution_count": 426,
   "metadata": {},
   "outputs": [
    {
     "data": {
      "text/plain": [
       "(9, 10)"
      ]
     },
     "execution_count": 426,
     "metadata": {},
     "output_type": "execute_result"
    }
   ],
   "source": [
    "docs[0]._.page, docs[1]._.page"
   ]
  },
  {
   "cell_type": "code",
   "execution_count": 427,
   "metadata": {},
   "outputs": [],
   "source": [
    "book_doc = nlp(book)"
   ]
  },
  {
   "cell_type": "code",
   "execution_count": 434,
   "metadata": {},
   "outputs": [
    {
     "name": "stdout",
     "output_type": "stream",
     "text": [
      "Nº chapters: 20\n",
      "Nº pages: 192\n",
      "Max pages: 201\n",
      "Nº sentences: 6687\n",
      "Vocabulary size: 10006\n",
      "Nº tokens: 171099\n",
      "Nº characters: 821643\n"
     ]
    }
   ],
   "source": [
    "print (f'Nº chapters: {len(chapters)}')\n",
    "print (f'Nº pages: {len(pages)}')\n",
    "print (f'Max pages: {max(pages, key=lambda p: p[1][\"page\"])[1][\"page\"]}')\n",
    "print(f'Nº sentences: {len(list(book_doc.sents))}')\n",
    "print(f'Vocabulary size: {book_doc.vocab.length}')\n",
    "print(f'Nº tokens: {len(book_doc)}')\n",
    "print(f'Nº characters: {len(book)}')"
   ]
  },
  {
   "cell_type": "markdown",
   "metadata": {},
   "source": [
    "## Token identification"
   ]
  },
  {
   "cell_type": "code",
   "execution_count": 435,
   "metadata": {},
   "outputs": [
    {
     "data": {
      "text/plain": [
       "(THE, 6398231955146299758, 821629)"
      ]
     },
     "execution_count": 435,
     "metadata": {},
     "output_type": "execute_result"
    }
   ],
   "source": [
    "idx = 171094\n",
    "book_doc[idx], book_doc[idx].orth, book_doc[idx].idx"
   ]
  },
  {
   "cell_type": "code",
   "execution_count": 12,
   "metadata": {},
   "outputs": [
    {
     "data": {
      "text/plain": [
       "(END, 14349458037152488889, 821633)"
      ]
     },
     "execution_count": 12,
     "metadata": {},
     "output_type": "execute_result"
    }
   ],
   "source": [
    "idx = 171095\n",
    "book_doc[idx], book_doc[idx].orth, book_doc[idx].idx"
   ]
  },
  {
   "cell_type": "code",
   "execution_count": 13,
   "metadata": {},
   "outputs": [
    {
     "data": {
      "text/plain": [
       "'END'"
      ]
     },
     "execution_count": 13,
     "metadata": {},
     "output_type": "execute_result"
    }
   ],
   "source": [
    "book_doc.vocab.strings[14349458037152488889]"
   ]
  },
  {
   "cell_type": "code",
   "execution_count": 14,
   "metadata": {},
   "outputs": [
    {
     "data": {
      "text/plain": [
       "3228277545756960083"
      ]
     },
     "execution_count": 14,
     "metadata": {},
     "output_type": "execute_result"
    }
   ],
   "source": [
    "book_doc.vocab.strings['Aureliano']"
   ]
  },
  {
   "cell_type": "code",
   "execution_count": 15,
   "metadata": {},
   "outputs": [
    {
     "name": "stdout",
     "output_type": "stream",
     "text": [
      "3228277545756960083 14\n",
      "3228277545756960083 2168\n"
     ]
    }
   ],
   "source": [
    "found = 0\n",
    "for i, t in enumerate(book_doc):\n",
    "    if t.text == 'Aureliano':\n",
    "        print(t.orth, i)\n",
    "        found += 1\n",
    "    if found == 2:\n",
    "        break"
   ]
  },
  {
   "cell_type": "code",
   "execution_count": 16,
   "metadata": {},
   "outputs": [
    {
     "data": {
      "text/plain": [
       "(Aureliano, Aureliano)"
      ]
     },
     "execution_count": 16,
     "metadata": {},
     "output_type": "execute_result"
    }
   ],
   "source": [
    "book_doc[14], book_doc[2168]"
   ]
  },
  {
   "cell_type": "code",
   "execution_count": 17,
   "metadata": {},
   "outputs": [
    {
     "data": {
      "text/plain": [
       "(14, 2168)"
      ]
     },
     "execution_count": 17,
     "metadata": {},
     "output_type": "execute_result"
    }
   ],
   "source": [
    "book_doc[14].i, book_doc[2168].i"
   ]
  },
  {
   "cell_type": "markdown",
   "metadata": {},
   "source": [
    "### Observations\n",
    "\n",
    "- use attribute `i` to reference a token in the document\n",
    "- use attribute `orth` to get the token id in the vocabulary"
   ]
  },
  {
   "cell_type": "markdown",
   "metadata": {},
   "source": [
    "## Entities"
   ]
  },
  {
   "cell_type": "markdown",
   "metadata": {},
   "source": [
    "### Most mentioned characters"
   ]
  },
  {
   "cell_type": "code",
   "execution_count": 439,
   "metadata": {},
   "outputs": [],
   "source": [
    "entities_lst = []\n",
    "\n",
    "for doc in docs:\n",
    "    for ent in doc.ents:\n",
    "        e = {'entity': ent, 'text': ent.text, 'label': ent.label_, 'pos': ent.start }\n",
    "        entities_lst.append(e)"
   ]
  },
  {
   "cell_type": "code",
   "execution_count": 440,
   "metadata": {},
   "outputs": [],
   "source": [
    "entities_df = pd.DataFrame(entities_lst)"
   ]
  },
  {
   "cell_type": "code",
   "execution_count": 441,
   "metadata": {},
   "outputs": [
    {
     "data": {
      "text/plain": [
       "(6507, 4)"
      ]
     },
     "execution_count": 441,
     "metadata": {},
     "output_type": "execute_result"
    }
   ],
   "source": [
    "entities_df.shape"
   ]
  },
  {
   "cell_type": "code",
   "execution_count": 442,
   "metadata": {},
   "outputs": [],
   "source": [
    "import unidecode\n",
    "\n",
    "def process_text(text):\n",
    "    text = text.strip()\n",
    "    text = text.lower()\n",
    "    text = unidecode.unidecode(text)\n",
    "    return text"
   ]
  },
  {
   "cell_type": "code",
   "execution_count": 443,
   "metadata": {},
   "outputs": [],
   "source": [
    "entities_df['text_clean'] = entities_df.text.apply(lambda t: process_text(t))"
   ]
  },
  {
   "cell_type": "code",
   "execution_count": 444,
   "metadata": {},
   "outputs": [
    {
     "data": {
      "text/plain": [
       "array(['LAW', 'PERSON', 'TIME', 'ORG', 'DATE', 'ORDINAL', 'GPE',\n",
       "       'CARDINAL', 'LOC', 'NORP', 'WORK_OF_ART', 'FAC', 'EVENT', 'MONEY',\n",
       "       'LANGUAGE', 'PRODUCT', 'QUANTITY'], dtype=object)"
      ]
     },
     "execution_count": 444,
     "metadata": {},
     "output_type": "execute_result"
    }
   ],
   "source": [
    "entities_df.label.unique()"
   ]
  },
  {
   "cell_type": "code",
   "execution_count": 445,
   "metadata": {},
   "outputs": [],
   "source": [
    "person_df = entities_df[entities_df.label == 'PERSON'].groupby('text_clean').size().reset_index(name='total').sort_values('total', ascending=False)"
   ]
  },
  {
   "cell_type": "code",
   "execution_count": 446,
   "metadata": {},
   "outputs": [
    {
     "data": {
      "text/plain": [
       "(224, 'characters')"
      ]
     },
     "execution_count": 446,
     "metadata": {},
     "output_type": "execute_result"
    }
   ],
   "source": [
    "person_df.shape[0], \"characters\""
   ]
  },
  {
   "cell_type": "code",
   "execution_count": 447,
   "metadata": {},
   "outputs": [
    {
     "data": {
      "text/html": [
       "<div>\n",
       "<style scoped>\n",
       "    .dataframe tbody tr th:only-of-type {\n",
       "        vertical-align: middle;\n",
       "    }\n",
       "\n",
       "    .dataframe tbody tr th {\n",
       "        vertical-align: top;\n",
       "    }\n",
       "\n",
       "    .dataframe thead th {\n",
       "        text-align: right;\n",
       "    }\n",
       "</style>\n",
       "<table border=\"1\" class=\"dataframe\">\n",
       "  <thead>\n",
       "    <tr style=\"text-align: right;\">\n",
       "      <th></th>\n",
       "      <th>text_clean</th>\n",
       "      <th>total</th>\n",
       "    </tr>\n",
       "  </thead>\n",
       "  <tbody>\n",
       "    <tr>\n",
       "      <th>212</th>\n",
       "      <td>ursula</td>\n",
       "      <td>317</td>\n",
       "    </tr>\n",
       "    <tr>\n",
       "      <th>27</th>\n",
       "      <td>aureliano</td>\n",
       "      <td>244</td>\n",
       "    </tr>\n",
       "    <tr>\n",
       "      <th>38</th>\n",
       "      <td>aureliano segundo</td>\n",
       "      <td>142</td>\n",
       "    </tr>\n",
       "    <tr>\n",
       "      <th>107</th>\n",
       "      <td>jose arcadio</td>\n",
       "      <td>136</td>\n",
       "    </tr>\n",
       "    <tr>\n",
       "      <th>32</th>\n",
       "      <td>aureliano buendia</td>\n",
       "      <td>132</td>\n",
       "    </tr>\n",
       "    <tr>\n",
       "      <th>178</th>\n",
       "      <td>rebeca</td>\n",
       "      <td>114</td>\n",
       "    </tr>\n",
       "    <tr>\n",
       "      <th>111</th>\n",
       "      <td>jose arcadio buendia</td>\n",
       "      <td>98</td>\n",
       "    </tr>\n",
       "    <tr>\n",
       "      <th>139</th>\n",
       "      <td>melquiades</td>\n",
       "      <td>75</td>\n",
       "    </tr>\n",
       "    <tr>\n",
       "      <th>6</th>\n",
       "      <td>amaranta ursula</td>\n",
       "      <td>71</td>\n",
       "    </tr>\n",
       "    <tr>\n",
       "      <th>114</th>\n",
       "      <td>jose arcadio segundo</td>\n",
       "      <td>69</td>\n",
       "    </tr>\n",
       "    <tr>\n",
       "      <th>18</th>\n",
       "      <td>arcadio</td>\n",
       "      <td>67</td>\n",
       "    </tr>\n",
       "    <tr>\n",
       "      <th>167</th>\n",
       "      <td>pietro crespi</td>\n",
       "      <td>61</td>\n",
       "    </tr>\n",
       "    <tr>\n",
       "      <th>78</th>\n",
       "      <td>fernanda</td>\n",
       "      <td>61</td>\n",
       "    </tr>\n",
       "    <tr>\n",
       "      <th>92</th>\n",
       "      <td>gerineldo marquez</td>\n",
       "      <td>57</td>\n",
       "    </tr>\n",
       "    <tr>\n",
       "      <th>140</th>\n",
       "      <td>meme</td>\n",
       "      <td>44</td>\n",
       "    </tr>\n",
       "    <tr>\n",
       "      <th>4</th>\n",
       "      <td>amaranta</td>\n",
       "      <td>43</td>\n",
       "    </tr>\n",
       "    <tr>\n",
       "      <th>36</th>\n",
       "      <td>aureliano jose</td>\n",
       "      <td>33</td>\n",
       "    </tr>\n",
       "    <tr>\n",
       "      <th>106</th>\n",
       "      <td>jose</td>\n",
       "      <td>29</td>\n",
       "    </tr>\n",
       "    <tr>\n",
       "      <th>152</th>\n",
       "      <td>nicanor</td>\n",
       "      <td>26</td>\n",
       "    </tr>\n",
       "    <tr>\n",
       "      <th>87</th>\n",
       "      <td>gaston</td>\n",
       "      <td>26</td>\n",
       "    </tr>\n",
       "  </tbody>\n",
       "</table>\n",
       "</div>"
      ],
      "text/plain": [
       "               text_clean  total\n",
       "212                ursula    317\n",
       "27              aureliano    244\n",
       "38      aureliano segundo    142\n",
       "107          jose arcadio    136\n",
       "32      aureliano buendia    132\n",
       "178                rebeca    114\n",
       "111  jose arcadio buendia     98\n",
       "139            melquiades     75\n",
       "6         amaranta ursula     71\n",
       "114  jose arcadio segundo     69\n",
       "18                arcadio     67\n",
       "167         pietro crespi     61\n",
       "78               fernanda     61\n",
       "92      gerineldo marquez     57\n",
       "140                  meme     44\n",
       "4                amaranta     43\n",
       "36         aureliano jose     33\n",
       "106                  jose     29\n",
       "152               nicanor     26\n",
       "87                 gaston     26"
      ]
     },
     "execution_count": 447,
     "metadata": {},
     "output_type": "execute_result"
    }
   ],
   "source": [
    "person_df.head(20)"
   ]
  },
  {
   "cell_type": "code",
   "execution_count": 448,
   "metadata": {},
   "outputs": [],
   "source": [
    "locations_df = entities_df[entities_df.label == 'LOC'].groupby('text_clean').size().reset_index(name='total').sort_values('total', ascending=False)"
   ]
  },
  {
   "cell_type": "code",
   "execution_count": 449,
   "metadata": {},
   "outputs": [
    {
     "data": {
      "text/plain": [
       "(31, 'locations')"
      ]
     },
     "execution_count": 449,
     "metadata": {},
     "output_type": "execute_result"
    }
   ],
   "source": [
    "locations_df.shape[0], 'locations'"
   ]
  },
  {
   "cell_type": "code",
   "execution_count": 450,
   "metadata": {},
   "outputs": [
    {
     "data": {
      "text/html": [
       "<div>\n",
       "<style scoped>\n",
       "    .dataframe tbody tr th:only-of-type {\n",
       "        vertical-align: middle;\n",
       "    }\n",
       "\n",
       "    .dataframe tbody tr th {\n",
       "        vertical-align: top;\n",
       "    }\n",
       "\n",
       "    .dataframe thead th {\n",
       "        text-align: right;\n",
       "    }\n",
       "</style>\n",
       "<table border=\"1\" class=\"dataframe\">\n",
       "  <thead>\n",
       "    <tr style=\"text-align: right;\">\n",
       "      <th></th>\n",
       "      <th>text_clean</th>\n",
       "      <th>total</th>\n",
       "    </tr>\n",
       "  </thead>\n",
       "  <tbody>\n",
       "    <tr>\n",
       "      <th>8</th>\n",
       "      <td>earth</td>\n",
       "      <td>21</td>\n",
       "    </tr>\n",
       "    <tr>\n",
       "      <th>5</th>\n",
       "      <td>caribbean</td>\n",
       "      <td>6</td>\n",
       "    </tr>\n",
       "    <tr>\n",
       "      <th>1</th>\n",
       "      <td>arcadio</td>\n",
       "      <td>4</td>\n",
       "    </tr>\n",
       "    <tr>\n",
       "      <th>4</th>\n",
       "      <td>aurelianos</td>\n",
       "      <td>4</td>\n",
       "    </tr>\n",
       "    <tr>\n",
       "      <th>9</th>\n",
       "      <td>europe</td>\n",
       "      <td>3</td>\n",
       "    </tr>\n",
       "  </tbody>\n",
       "</table>\n",
       "</div>"
      ],
      "text/plain": [
       "   text_clean  total\n",
       "8       earth     21\n",
       "5   caribbean      6\n",
       "1     arcadio      4\n",
       "4  aurelianos      4\n",
       "9      europe      3"
      ]
     },
     "execution_count": 450,
     "metadata": {},
     "output_type": "execute_result"
    }
   ],
   "source": [
    "locations_df.head()"
   ]
  },
  {
   "cell_type": "code",
   "execution_count": 451,
   "metadata": {},
   "outputs": [],
   "source": [
    "# GPE stands for Geopolitical entity\n",
    "geopolitical_df = entities_df[entities_df.label == 'GPE'].groupby('text_clean').size().reset_index(name='total').sort_values('total', ascending=False)"
   ]
  },
  {
   "cell_type": "code",
   "execution_count": 452,
   "metadata": {},
   "outputs": [
    {
     "data": {
      "text/plain": [
       "(126, 'geopolitical entities')"
      ]
     },
     "execution_count": 452,
     "metadata": {},
     "output_type": "execute_result"
    }
   ],
   "source": [
    "geopolitical_df.shape[0], 'geopolitical entities'"
   ]
  },
  {
   "cell_type": "code",
   "execution_count": 453,
   "metadata": {},
   "outputs": [
    {
     "data": {
      "text/html": [
       "<div>\n",
       "<style scoped>\n",
       "    .dataframe tbody tr th:only-of-type {\n",
       "        vertical-align: middle;\n",
       "    }\n",
       "\n",
       "    .dataframe tbody tr th {\n",
       "        vertical-align: top;\n",
       "    }\n",
       "\n",
       "    .dataframe thead th {\n",
       "        text-align: right;\n",
       "    }\n",
       "</style>\n",
       "<table border=\"1\" class=\"dataframe\">\n",
       "  <thead>\n",
       "    <tr style=\"text-align: right;\">\n",
       "      <th></th>\n",
       "      <th>text_clean</th>\n",
       "      <th>total</th>\n",
       "    </tr>\n",
       "  </thead>\n",
       "  <tbody>\n",
       "    <tr>\n",
       "      <th>3</th>\n",
       "      <td>amaranta</td>\n",
       "      <td>178</td>\n",
       "    </tr>\n",
       "    <tr>\n",
       "      <th>60</th>\n",
       "      <td>macondo</td>\n",
       "      <td>128</td>\n",
       "    </tr>\n",
       "    <tr>\n",
       "      <th>13</th>\n",
       "      <td>aureliano</td>\n",
       "      <td>45</td>\n",
       "    </tr>\n",
       "    <tr>\n",
       "      <th>100</th>\n",
       "      <td>santa sofia de la piedad</td>\n",
       "      <td>38</td>\n",
       "    </tr>\n",
       "    <tr>\n",
       "      <th>26</th>\n",
       "      <td>buendia</td>\n",
       "      <td>28</td>\n",
       "    </tr>\n",
       "  </tbody>\n",
       "</table>\n",
       "</div>"
      ],
      "text/plain": [
       "                   text_clean  total\n",
       "3                    amaranta    178\n",
       "60                    macondo    128\n",
       "13                  aureliano     45\n",
       "100  santa sofia de la piedad     38\n",
       "26                    buendia     28"
      ]
     },
     "execution_count": 453,
     "metadata": {},
     "output_type": "execute_result"
    }
   ],
   "source": [
    "geopolitical_df.head()"
   ]
  },
  {
   "cell_type": "markdown",
   "metadata": {},
   "source": [
    "### Entity refenrece in the text"
   ]
  },
  {
   "cell_type": "code",
   "execution_count": 454,
   "metadata": {},
   "outputs": [
    {
     "data": {
      "text/plain": [
       "[159, 260, 667, 774, 1706, 3, 506, 538, 614, 697]"
      ]
     },
     "execution_count": 454,
     "metadata": {},
     "output_type": "execute_result"
    }
   ],
   "source": [
    "[e['entity'].start for i, e in entities_df[entities_df.text == 'Melquiades'][:10].iterrows()]"
   ]
  },
  {
   "cell_type": "code",
   "execution_count": 455,
   "metadata": {},
   "outputs": [],
   "source": [
    "span = entities_df[entities_df.text == 'Melquiades'].iloc[0].entity\n",
    "token = span[0]"
   ]
  },
  {
   "cell_type": "code",
   "execution_count": 456,
   "metadata": {},
   "outputs": [
    {
     "data": {
      "text/plain": [
       "(159, 159)"
      ]
     },
     "execution_count": 456,
     "metadata": {},
     "output_type": "execute_result"
    }
   ],
   "source": [
    "span.start, token.i"
   ]
  },
  {
   "cell_type": "code",
   "execution_count": 457,
   "metadata": {},
   "outputs": [
    {
     "data": {
      "text/plain": [
       "(Melquiades, Melquiades, Melquiades, Melquiades)"
      ]
     },
     "execution_count": 457,
     "metadata": {},
     "output_type": "execute_result"
    }
   ],
   "source": [
    "book_doc[span.start], book_doc[159], book_doc[260], token"
   ]
  },
  {
   "cell_type": "markdown",
   "metadata": {},
   "source": [
    "### POS tags in the text"
   ]
  },
  {
   "cell_type": "code",
   "execution_count": 458,
   "metadata": {},
   "outputs": [],
   "source": [
    "pos_tags = [\n",
    "    'ADJ', 'ADP', 'ADV', 'AUX', 'CCONJ', 'DET', 'INTJ', 'NOUN', 'NUM', \n",
    "    'PART', 'PRON', 'PROPN', 'PUNCT', 'SCONJ', 'SPACE', 'SYM', 'VERB', 'X'\n",
    "]"
   ]
  },
  {
   "cell_type": "code",
   "execution_count": 459,
   "metadata": {},
   "outputs": [
    {
     "name": "stdout",
     "output_type": "stream",
     "text": [
      "he\n",
      "him\n",
      "them\n",
      "it\n",
      "they\n",
      "they\n",
      "who\n",
      "himself\n",
      "what\n",
      "he\n"
     ]
    }
   ],
   "source": [
    "i = 0\n",
    "for token in book_doc:\n",
    "    if token.pos_ == 'PRON':\n",
    "        print (token)\n",
    "        i += 1\n",
    "    if i == 10:\n",
    "        break"
   ]
  },
  {
   "cell_type": "markdown",
   "metadata": {},
   "source": [
    "## Noun-chunks"
   ]
  },
  {
   "cell_type": "code",
   "execution_count": 460,
   "metadata": {},
   "outputs": [
    {
     "name": "stdout",
     "output_type": "stream",
     "text": [
      "he [he]\n",
      "the firing squad [the, firing, squad]\n",
      "Colonel Aureliano Buendfa [Colonel, Aureliano, Buendfa]\n",
      "distant afternoon [distant, afternoon, when, his, father, took, him, to, discover, ice]\n",
      "his father [his, father]\n",
      "him [him]\n",
      "ice [ice]\n",
      "that time [that, time]\n",
      "Macondo [Macondo]\n",
      "a village [a, village, of, \n",
      ", twenty, adobe, houses, ,, built, on, the, bank, of, a, river, of, clear, water, that, ran, along, a, bed, of, polished, \n",
      ", stones, ,, which, were, white, and, enormous, ,, like, prehistoric, eggs]\n"
     ]
    }
   ],
   "source": [
    "i = 0\n",
    "for nc in book_doc.noun_chunks:\n",
    "    print (nc, list(nc.subtree))\n",
    "    i += 1\n",
    "    if i == 10:\n",
    "        break"
   ]
  },
  {
   "cell_type": "code",
   "execution_count": null,
   "metadata": {},
   "outputs": [],
   "source": []
  },
  {
   "cell_type": "markdown",
   "metadata": {},
   "source": [
    "# Matching misclassified entities"
   ]
  },
  {
   "cell_type": "code",
   "execution_count": 461,
   "metadata": {},
   "outputs": [
    {
     "data": {
      "text/plain": [
       "(6507, 5)"
      ]
     },
     "execution_count": 461,
     "metadata": {},
     "output_type": "execute_result"
    }
   ],
   "source": [
    "entities_df.shape"
   ]
  },
  {
   "cell_type": "code",
   "execution_count": 462,
   "metadata": {},
   "outputs": [
    {
     "data": {
      "text/plain": [
       "(2452, 5)"
      ]
     },
     "execution_count": 462,
     "metadata": {},
     "output_type": "execute_result"
    }
   ],
   "source": [
    "entities_df[entities_df.label == 'PERSON'].shape"
   ]
  },
  {
   "cell_type": "code",
   "execution_count": 463,
   "metadata": {},
   "outputs": [
    {
     "data": {
      "text/plain": [
       "(224,)"
      ]
     },
     "execution_count": 463,
     "metadata": {},
     "output_type": "execute_result"
    }
   ],
   "source": [
    "entities_df[entities_df.label == 'PERSON'].text_clean.unique().shape"
   ]
  },
  {
   "cell_type": "code",
   "execution_count": 464,
   "metadata": {},
   "outputs": [
    {
     "data": {
      "text/plain": [
       "array(['PERSON', 'FAC', 'ORG'], dtype=object)"
      ]
     },
     "execution_count": 464,
     "metadata": {},
     "output_type": "execute_result"
    }
   ],
   "source": [
    "entities_df[entities_df.text_clean == 'jose arcadio buendia'].label.unique()"
   ]
  },
  {
   "cell_type": "code",
   "execution_count": 465,
   "metadata": {},
   "outputs": [
    {
     "data": {
      "text/plain": [
       "array(['PERSON', 'PRODUCT', 'NORP', 'LANGUAGE', 'GPE', 'ORG'],\n",
       "      dtype=object)"
      ]
     },
     "execution_count": 465,
     "metadata": {},
     "output_type": "execute_result"
    }
   ],
   "source": [
    "entities_df[entities_df.text_clean == 'ursula'].label.unique()"
   ]
  },
  {
   "cell_type": "markdown",
   "metadata": {},
   "source": [
    "- There are 6464 entities, 2452 `PERSON` entities\n",
    "- Some ocurrences of these characters were incorrectly classified (they should always be labeled as `PERSON`)\n",
    "- To prevent this situation, we'll create an heuristic to fix theses problems based on other ocurrences of these entities."
   ]
  },
  {
   "cell_type": "code",
   "execution_count": 466,
   "metadata": {},
   "outputs": [],
   "source": [
    "text_entities = entities_df.groupby(['text_clean', 'label']).size().reset_index(name='total').sort_values('total', ascending=False)"
   ]
  },
  {
   "cell_type": "code",
   "execution_count": 467,
   "metadata": {},
   "outputs": [
    {
     "data": {
      "text/plain": [
       "(1544, 3)"
      ]
     },
     "execution_count": 467,
     "metadata": {},
     "output_type": "execute_result"
    }
   ],
   "source": [
    "text_entities.shape"
   ]
  },
  {
   "cell_type": "markdown",
   "metadata": {},
   "source": [
    "#### Entities mismatch examples"
   ]
  },
  {
   "cell_type": "code",
   "execution_count": 468,
   "metadata": {},
   "outputs": [
    {
     "data": {
      "text/html": [
       "<div>\n",
       "<style scoped>\n",
       "    .dataframe tbody tr th:only-of-type {\n",
       "        vertical-align: middle;\n",
       "    }\n",
       "\n",
       "    .dataframe tbody tr th {\n",
       "        vertical-align: top;\n",
       "    }\n",
       "\n",
       "    .dataframe thead th {\n",
       "        text-align: right;\n",
       "    }\n",
       "</style>\n",
       "<table border=\"1\" class=\"dataframe\">\n",
       "  <thead>\n",
       "    <tr style=\"text-align: right;\">\n",
       "      <th></th>\n",
       "      <th>text_clean</th>\n",
       "      <th>label</th>\n",
       "      <th>total</th>\n",
       "    </tr>\n",
       "  </thead>\n",
       "  <tbody>\n",
       "    <tr>\n",
       "      <th>1499</th>\n",
       "      <td>ursula</td>\n",
       "      <td>PERSON</td>\n",
       "      <td>317</td>\n",
       "    </tr>\n",
       "    <tr>\n",
       "      <th>359</th>\n",
       "      <td>aureliano</td>\n",
       "      <td>PERSON</td>\n",
       "      <td>244</td>\n",
       "    </tr>\n",
       "    <tr>\n",
       "      <th>597</th>\n",
       "      <td>first</td>\n",
       "      <td>ORDINAL</td>\n",
       "      <td>197</td>\n",
       "    </tr>\n",
       "    <tr>\n",
       "      <th>278</th>\n",
       "      <td>amaranta</td>\n",
       "      <td>GPE</td>\n",
       "      <td>178</td>\n",
       "    </tr>\n",
       "    <tr>\n",
       "      <th>951</th>\n",
       "      <td>one</td>\n",
       "      <td>CARDINAL</td>\n",
       "      <td>171</td>\n",
       "    </tr>\n",
       "  </tbody>\n",
       "</table>\n",
       "</div>"
      ],
      "text/plain": [
       "     text_clean     label  total\n",
       "1499     ursula    PERSON    317\n",
       "359   aureliano    PERSON    244\n",
       "597       first   ORDINAL    197\n",
       "278    amaranta       GPE    178\n",
       "951         one  CARDINAL    171"
      ]
     },
     "execution_count": 468,
     "metadata": {},
     "output_type": "execute_result"
    }
   ],
   "source": [
    "text_entities.head()"
   ]
  },
  {
   "cell_type": "code",
   "execution_count": 469,
   "metadata": {},
   "outputs": [
    {
     "data": {
      "text/html": [
       "<div>\n",
       "<style scoped>\n",
       "    .dataframe tbody tr th:only-of-type {\n",
       "        vertical-align: middle;\n",
       "    }\n",
       "\n",
       "    .dataframe tbody tr th {\n",
       "        vertical-align: top;\n",
       "    }\n",
       "\n",
       "    .dataframe thead th {\n",
       "        text-align: right;\n",
       "    }\n",
       "</style>\n",
       "<table border=\"1\" class=\"dataframe\">\n",
       "  <thead>\n",
       "    <tr style=\"text-align: right;\">\n",
       "      <th></th>\n",
       "      <th>text_clean</th>\n",
       "      <th>label</th>\n",
       "      <th>total</th>\n",
       "    </tr>\n",
       "  </thead>\n",
       "  <tbody>\n",
       "    <tr>\n",
       "      <th>1499</th>\n",
       "      <td>ursula</td>\n",
       "      <td>PERSON</td>\n",
       "      <td>317</td>\n",
       "    </tr>\n",
       "    <tr>\n",
       "      <th>1497</th>\n",
       "      <td>ursula</td>\n",
       "      <td>NORP</td>\n",
       "      <td>21</td>\n",
       "    </tr>\n",
       "    <tr>\n",
       "      <th>1495</th>\n",
       "      <td>ursula</td>\n",
       "      <td>GPE</td>\n",
       "      <td>8</td>\n",
       "    </tr>\n",
       "    <tr>\n",
       "      <th>1500</th>\n",
       "      <td>ursula</td>\n",
       "      <td>PRODUCT</td>\n",
       "      <td>3</td>\n",
       "    </tr>\n",
       "    <tr>\n",
       "      <th>1498</th>\n",
       "      <td>ursula</td>\n",
       "      <td>ORG</td>\n",
       "      <td>1</td>\n",
       "    </tr>\n",
       "    <tr>\n",
       "      <th>1496</th>\n",
       "      <td>ursula</td>\n",
       "      <td>LANGUAGE</td>\n",
       "      <td>1</td>\n",
       "    </tr>\n",
       "  </tbody>\n",
       "</table>\n",
       "</div>"
      ],
      "text/plain": [
       "     text_clean     label  total\n",
       "1499     ursula    PERSON    317\n",
       "1497     ursula      NORP     21\n",
       "1495     ursula       GPE      8\n",
       "1500     ursula   PRODUCT      3\n",
       "1498     ursula       ORG      1\n",
       "1496     ursula  LANGUAGE      1"
      ]
     },
     "execution_count": 469,
     "metadata": {},
     "output_type": "execute_result"
    }
   ],
   "source": [
    "text_entities[text_entities.text_clean == 'ursula'] "
   ]
  },
  {
   "cell_type": "code",
   "execution_count": 470,
   "metadata": {},
   "outputs": [
    {
     "data": {
      "text/html": [
       "<div>\n",
       "<style scoped>\n",
       "    .dataframe tbody tr th:only-of-type {\n",
       "        vertical-align: middle;\n",
       "    }\n",
       "\n",
       "    .dataframe tbody tr th {\n",
       "        vertical-align: top;\n",
       "    }\n",
       "\n",
       "    .dataframe thead th {\n",
       "        text-align: right;\n",
       "    }\n",
       "</style>\n",
       "<table border=\"1\" class=\"dataframe\">\n",
       "  <thead>\n",
       "    <tr style=\"text-align: right;\">\n",
       "      <th></th>\n",
       "      <th>text_clean</th>\n",
       "      <th>label</th>\n",
       "      <th>total</th>\n",
       "    </tr>\n",
       "  </thead>\n",
       "  <tbody>\n",
       "    <tr>\n",
       "      <th>278</th>\n",
       "      <td>amaranta</td>\n",
       "      <td>GPE</td>\n",
       "      <td>178</td>\n",
       "    </tr>\n",
       "    <tr>\n",
       "      <th>280</th>\n",
       "      <td>amaranta</td>\n",
       "      <td>PERSON</td>\n",
       "      <td>43</td>\n",
       "    </tr>\n",
       "    <tr>\n",
       "      <th>279</th>\n",
       "      <td>amaranta</td>\n",
       "      <td>NORP</td>\n",
       "      <td>6</td>\n",
       "    </tr>\n",
       "  </tbody>\n",
       "</table>\n",
       "</div>"
      ],
      "text/plain": [
       "    text_clean   label  total\n",
       "278   amaranta     GPE    178\n",
       "280   amaranta  PERSON     43\n",
       "279   amaranta    NORP      6"
      ]
     },
     "execution_count": 470,
     "metadata": {},
     "output_type": "execute_result"
    }
   ],
   "source": [
    "text_entities[text_entities.text_clean == 'amaranta'] "
   ]
  },
  {
   "cell_type": "code",
   "execution_count": 471,
   "metadata": {},
   "outputs": [
    {
     "data": {
      "text/html": [
       "<div>\n",
       "<style scoped>\n",
       "    .dataframe tbody tr th:only-of-type {\n",
       "        vertical-align: middle;\n",
       "    }\n",
       "\n",
       "    .dataframe tbody tr th {\n",
       "        vertical-align: top;\n",
       "    }\n",
       "\n",
       "    .dataframe thead th {\n",
       "        text-align: right;\n",
       "    }\n",
       "</style>\n",
       "<table border=\"1\" class=\"dataframe\">\n",
       "  <thead>\n",
       "    <tr style=\"text-align: right;\">\n",
       "      <th></th>\n",
       "      <th>text_clean</th>\n",
       "      <th>label</th>\n",
       "      <th>total</th>\n",
       "    </tr>\n",
       "  </thead>\n",
       "  <tbody>\n",
       "    <tr>\n",
       "      <th>738</th>\n",
       "      <td>jose arcadio buendia</td>\n",
       "      <td>PERSON</td>\n",
       "      <td>98</td>\n",
       "    </tr>\n",
       "    <tr>\n",
       "      <th>736</th>\n",
       "      <td>jose arcadio buendia</td>\n",
       "      <td>FAC</td>\n",
       "      <td>12</td>\n",
       "    </tr>\n",
       "    <tr>\n",
       "      <th>737</th>\n",
       "      <td>jose arcadio buendia</td>\n",
       "      <td>ORG</td>\n",
       "      <td>5</td>\n",
       "    </tr>\n",
       "  </tbody>\n",
       "</table>\n",
       "</div>"
      ],
      "text/plain": [
       "               text_clean   label  total\n",
       "738  jose arcadio buendia  PERSON     98\n",
       "736  jose arcadio buendia     FAC     12\n",
       "737  jose arcadio buendia     ORG      5"
      ]
     },
     "execution_count": 471,
     "metadata": {},
     "output_type": "execute_result"
    }
   ],
   "source": [
    "text_entities[text_entities.text_clean == 'jose arcadio buendia'] "
   ]
  },
  {
   "cell_type": "code",
   "execution_count": 472,
   "metadata": {},
   "outputs": [],
   "source": [
    "max_ids = text_entities.groupby('text_clean').idxmax()"
   ]
  },
  {
   "cell_type": "code",
   "execution_count": 473,
   "metadata": {},
   "outputs": [],
   "source": [
    "entities_true_label = text_entities.loc[max_ids.total] "
   ]
  },
  {
   "cell_type": "code",
   "execution_count": 474,
   "metadata": {},
   "outputs": [
    {
     "data": {
      "text/plain": [
       "(1422, 3)"
      ]
     },
     "execution_count": 474,
     "metadata": {},
     "output_type": "execute_result"
    }
   ],
   "source": [
    "entities_true_label.shape"
   ]
  },
  {
   "cell_type": "code",
   "execution_count": 475,
   "metadata": {},
   "outputs": [
    {
     "data": {
      "text/html": [
       "<div>\n",
       "<style scoped>\n",
       "    .dataframe tbody tr th:only-of-type {\n",
       "        vertical-align: middle;\n",
       "    }\n",
       "\n",
       "    .dataframe tbody tr th {\n",
       "        vertical-align: top;\n",
       "    }\n",
       "\n",
       "    .dataframe thead th {\n",
       "        text-align: right;\n",
       "    }\n",
       "</style>\n",
       "<table border=\"1\" class=\"dataframe\">\n",
       "  <thead>\n",
       "    <tr style=\"text-align: right;\">\n",
       "      <th></th>\n",
       "      <th>text_clean</th>\n",
       "      <th>label</th>\n",
       "      <th>total</th>\n",
       "    </tr>\n",
       "  </thead>\n",
       "  <tbody>\n",
       "    <tr>\n",
       "      <th>738</th>\n",
       "      <td>jose arcadio buendia</td>\n",
       "      <td>PERSON</td>\n",
       "      <td>98</td>\n",
       "    </tr>\n",
       "  </tbody>\n",
       "</table>\n",
       "</div>"
      ],
      "text/plain": [
       "               text_clean   label  total\n",
       "738  jose arcadio buendia  PERSON     98"
      ]
     },
     "execution_count": 475,
     "metadata": {},
     "output_type": "execute_result"
    }
   ],
   "source": [
    "entities_true_label[entities_true_label.text_clean == 'jose arcadio buendia'] "
   ]
  },
  {
   "cell_type": "code",
   "execution_count": 476,
   "metadata": {},
   "outputs": [
    {
     "data": {
      "text/html": [
       "<div>\n",
       "<style scoped>\n",
       "    .dataframe tbody tr th:only-of-type {\n",
       "        vertical-align: middle;\n",
       "    }\n",
       "\n",
       "    .dataframe tbody tr th {\n",
       "        vertical-align: top;\n",
       "    }\n",
       "\n",
       "    .dataframe thead th {\n",
       "        text-align: right;\n",
       "    }\n",
       "</style>\n",
       "<table border=\"1\" class=\"dataframe\">\n",
       "  <thead>\n",
       "    <tr style=\"text-align: right;\">\n",
       "      <th></th>\n",
       "      <th>text_clean</th>\n",
       "      <th>label</th>\n",
       "      <th>total</th>\n",
       "    </tr>\n",
       "  </thead>\n",
       "  <tbody>\n",
       "    <tr>\n",
       "      <th>1499</th>\n",
       "      <td>ursula</td>\n",
       "      <td>PERSON</td>\n",
       "      <td>317</td>\n",
       "    </tr>\n",
       "  </tbody>\n",
       "</table>\n",
       "</div>"
      ],
      "text/plain": [
       "     text_clean   label  total\n",
       "1499     ursula  PERSON    317"
      ]
     },
     "execution_count": 476,
     "metadata": {},
     "output_type": "execute_result"
    }
   ],
   "source": [
    "entities_true_label[entities_true_label.text_clean == 'ursula'] "
   ]
  },
  {
   "cell_type": "code",
   "execution_count": 477,
   "metadata": {},
   "outputs": [
    {
     "data": {
      "text/html": [
       "<div>\n",
       "<style scoped>\n",
       "    .dataframe tbody tr th:only-of-type {\n",
       "        vertical-align: middle;\n",
       "    }\n",
       "\n",
       "    .dataframe tbody tr th {\n",
       "        vertical-align: top;\n",
       "    }\n",
       "\n",
       "    .dataframe thead th {\n",
       "        text-align: right;\n",
       "    }\n",
       "</style>\n",
       "<table border=\"1\" class=\"dataframe\">\n",
       "  <thead>\n",
       "    <tr style=\"text-align: right;\">\n",
       "      <th></th>\n",
       "      <th>text_clean</th>\n",
       "      <th>label</th>\n",
       "      <th>total</th>\n",
       "    </tr>\n",
       "  </thead>\n",
       "  <tbody>\n",
       "    <tr>\n",
       "      <th>278</th>\n",
       "      <td>amaranta</td>\n",
       "      <td>GPE</td>\n",
       "      <td>178</td>\n",
       "    </tr>\n",
       "  </tbody>\n",
       "</table>\n",
       "</div>"
      ],
      "text/plain": [
       "    text_clean label  total\n",
       "278   amaranta   GPE    178"
      ]
     },
     "execution_count": 477,
     "metadata": {},
     "output_type": "execute_result"
    }
   ],
   "source": [
    "entities_true_label[entities_true_label.text_clean == 'amaranta'] "
   ]
  },
  {
   "cell_type": "code",
   "execution_count": 478,
   "metadata": {},
   "outputs": [
    {
     "data": {
      "text/html": [
       "<div>\n",
       "<style scoped>\n",
       "    .dataframe tbody tr th:only-of-type {\n",
       "        vertical-align: middle;\n",
       "    }\n",
       "\n",
       "    .dataframe tbody tr th {\n",
       "        vertical-align: top;\n",
       "    }\n",
       "\n",
       "    .dataframe thead th {\n",
       "        text-align: right;\n",
       "    }\n",
       "</style>\n",
       "<table border=\"1\" class=\"dataframe\">\n",
       "  <thead>\n",
       "    <tr style=\"text-align: right;\">\n",
       "      <th></th>\n",
       "      <th>text_clean</th>\n",
       "      <th>label</th>\n",
       "      <th>total</th>\n",
       "    </tr>\n",
       "  </thead>\n",
       "  <tbody>\n",
       "    <tr>\n",
       "      <th>1499</th>\n",
       "      <td>ursula</td>\n",
       "      <td>PERSON</td>\n",
       "      <td>317</td>\n",
       "    </tr>\n",
       "    <tr>\n",
       "      <th>359</th>\n",
       "      <td>aureliano</td>\n",
       "      <td>PERSON</td>\n",
       "      <td>244</td>\n",
       "    </tr>\n",
       "    <tr>\n",
       "      <th>597</th>\n",
       "      <td>first</td>\n",
       "      <td>ORDINAL</td>\n",
       "      <td>197</td>\n",
       "    </tr>\n",
       "    <tr>\n",
       "      <th>278</th>\n",
       "      <td>amaranta</td>\n",
       "      <td>GPE</td>\n",
       "      <td>178</td>\n",
       "    </tr>\n",
       "    <tr>\n",
       "      <th>951</th>\n",
       "      <td>one</td>\n",
       "      <td>CARDINAL</td>\n",
       "      <td>171</td>\n",
       "    </tr>\n",
       "    <tr>\n",
       "      <th>375</th>\n",
       "      <td>aureliano segundo</td>\n",
       "      <td>PERSON</td>\n",
       "      <td>142</td>\n",
       "    </tr>\n",
       "    <tr>\n",
       "      <th>732</th>\n",
       "      <td>jose arcadio</td>\n",
       "      <td>PERSON</td>\n",
       "      <td>136</td>\n",
       "    </tr>\n",
       "    <tr>\n",
       "      <th>368</th>\n",
       "      <td>aureliano buendia</td>\n",
       "      <td>PERSON</td>\n",
       "      <td>132</td>\n",
       "    </tr>\n",
       "    <tr>\n",
       "      <th>796</th>\n",
       "      <td>macondo</td>\n",
       "      <td>GPE</td>\n",
       "      <td>128</td>\n",
       "    </tr>\n",
       "    <tr>\n",
       "      <th>578</th>\n",
       "      <td>fernanda</td>\n",
       "      <td>ORG</td>\n",
       "      <td>118</td>\n",
       "    </tr>\n",
       "  </tbody>\n",
       "</table>\n",
       "</div>"
      ],
      "text/plain": [
       "             text_clean     label  total\n",
       "1499             ursula    PERSON    317\n",
       "359           aureliano    PERSON    244\n",
       "597               first   ORDINAL    197\n",
       "278            amaranta       GPE    178\n",
       "951                 one  CARDINAL    171\n",
       "375   aureliano segundo    PERSON    142\n",
       "732        jose arcadio    PERSON    136\n",
       "368   aureliano buendia    PERSON    132\n",
       "796             macondo       GPE    128\n",
       "578            fernanda       ORG    118"
      ]
     },
     "execution_count": 478,
     "metadata": {},
     "output_type": "execute_result"
    }
   ],
   "source": [
    "entities_true_label.sort_values('total', ascending=False).head(10)"
   ]
  },
  {
   "cell_type": "markdown",
   "metadata": {},
   "source": [
    "#### First approch\n",
    "- There are 1508 unique entities considering its `text` and `label`\n",
    "- Fixing entitities that have more than one label for the same text by assuming the label with highest occurance is the correct one, we get a total of 1387 unique entities\n",
    "- We can see that is fixes the cases for the characters `Ursula` and `jose arcadio buendia`, but at the same time it classifies the character `Amaranta` as a `Geopolitical Entity (GPE)` and `Fernanda` as an `Organization (ORG)`"
   ]
  },
  {
   "cell_type": "markdown",
   "metadata": {},
   "source": [
    "#### Second approach:\n",
    "- all entities that have at least one match as PERSON for the same text will be considered a PERSON entity in all occurances"
   ]
  },
  {
   "cell_type": "code",
   "execution_count": 479,
   "metadata": {},
   "outputs": [],
   "source": [
    "person_df = person_df.set_index('text_clean')"
   ]
  },
  {
   "cell_type": "code",
   "execution_count": 480,
   "metadata": {},
   "outputs": [
    {
     "data": {
      "text/html": [
       "<div>\n",
       "<style scoped>\n",
       "    .dataframe tbody tr th:only-of-type {\n",
       "        vertical-align: middle;\n",
       "    }\n",
       "\n",
       "    .dataframe tbody tr th {\n",
       "        vertical-align: top;\n",
       "    }\n",
       "\n",
       "    .dataframe thead th {\n",
       "        text-align: right;\n",
       "    }\n",
       "</style>\n",
       "<table border=\"1\" class=\"dataframe\">\n",
       "  <thead>\n",
       "    <tr style=\"text-align: right;\">\n",
       "      <th></th>\n",
       "      <th>total</th>\n",
       "    </tr>\n",
       "    <tr>\n",
       "      <th>text_clean</th>\n",
       "      <th></th>\n",
       "    </tr>\n",
       "  </thead>\n",
       "  <tbody>\n",
       "    <tr>\n",
       "      <th>ursula</th>\n",
       "      <td>317</td>\n",
       "    </tr>\n",
       "    <tr>\n",
       "      <th>aureliano</th>\n",
       "      <td>244</td>\n",
       "    </tr>\n",
       "    <tr>\n",
       "      <th>aureliano segundo</th>\n",
       "      <td>142</td>\n",
       "    </tr>\n",
       "    <tr>\n",
       "      <th>jose arcadio</th>\n",
       "      <td>136</td>\n",
       "    </tr>\n",
       "    <tr>\n",
       "      <th>aureliano buendia</th>\n",
       "      <td>132</td>\n",
       "    </tr>\n",
       "  </tbody>\n",
       "</table>\n",
       "</div>"
      ],
      "text/plain": [
       "                   total\n",
       "text_clean              \n",
       "ursula               317\n",
       "aureliano            244\n",
       "aureliano segundo    142\n",
       "jose arcadio         136\n",
       "aureliano buendia    132"
      ]
     },
     "execution_count": 480,
     "metadata": {},
     "output_type": "execute_result"
    }
   ],
   "source": [
    "person_df.head()"
   ]
  },
  {
   "cell_type": "code",
   "execution_count": 481,
   "metadata": {},
   "outputs": [],
   "source": [
    "text_entities['label_fix'] = text_entities.apply(lambda e: 'PERSON' if e.text_clean in person_df.index else e.label, axis=1)"
   ]
  },
  {
   "cell_type": "code",
   "execution_count": 482,
   "metadata": {},
   "outputs": [
    {
     "data": {
      "text/html": [
       "<div>\n",
       "<style scoped>\n",
       "    .dataframe tbody tr th:only-of-type {\n",
       "        vertical-align: middle;\n",
       "    }\n",
       "\n",
       "    .dataframe tbody tr th {\n",
       "        vertical-align: top;\n",
       "    }\n",
       "\n",
       "    .dataframe thead th {\n",
       "        text-align: right;\n",
       "    }\n",
       "</style>\n",
       "<table border=\"1\" class=\"dataframe\">\n",
       "  <thead>\n",
       "    <tr style=\"text-align: right;\">\n",
       "      <th></th>\n",
       "      <th>text_clean</th>\n",
       "      <th>label</th>\n",
       "      <th>total</th>\n",
       "      <th>label_fix</th>\n",
       "    </tr>\n",
       "  </thead>\n",
       "  <tbody>\n",
       "    <tr>\n",
       "      <th>738</th>\n",
       "      <td>jose arcadio buendia</td>\n",
       "      <td>PERSON</td>\n",
       "      <td>98</td>\n",
       "      <td>PERSON</td>\n",
       "    </tr>\n",
       "    <tr>\n",
       "      <th>736</th>\n",
       "      <td>jose arcadio buendia</td>\n",
       "      <td>FAC</td>\n",
       "      <td>12</td>\n",
       "      <td>PERSON</td>\n",
       "    </tr>\n",
       "    <tr>\n",
       "      <th>737</th>\n",
       "      <td>jose arcadio buendia</td>\n",
       "      <td>ORG</td>\n",
       "      <td>5</td>\n",
       "      <td>PERSON</td>\n",
       "    </tr>\n",
       "  </tbody>\n",
       "</table>\n",
       "</div>"
      ],
      "text/plain": [
       "               text_clean   label  total label_fix\n",
       "738  jose arcadio buendia  PERSON     98    PERSON\n",
       "736  jose arcadio buendia     FAC     12    PERSON\n",
       "737  jose arcadio buendia     ORG      5    PERSON"
      ]
     },
     "execution_count": 482,
     "metadata": {},
     "output_type": "execute_result"
    }
   ],
   "source": [
    "text_entities[text_entities.text_clean == 'jose arcadio buendia'] "
   ]
  },
  {
   "cell_type": "code",
   "execution_count": 483,
   "metadata": {},
   "outputs": [
    {
     "data": {
      "text/html": [
       "<div>\n",
       "<style scoped>\n",
       "    .dataframe tbody tr th:only-of-type {\n",
       "        vertical-align: middle;\n",
       "    }\n",
       "\n",
       "    .dataframe tbody tr th {\n",
       "        vertical-align: top;\n",
       "    }\n",
       "\n",
       "    .dataframe thead th {\n",
       "        text-align: right;\n",
       "    }\n",
       "</style>\n",
       "<table border=\"1\" class=\"dataframe\">\n",
       "  <thead>\n",
       "    <tr style=\"text-align: right;\">\n",
       "      <th></th>\n",
       "      <th>text_clean</th>\n",
       "      <th>label</th>\n",
       "      <th>total</th>\n",
       "      <th>label_fix</th>\n",
       "    </tr>\n",
       "  </thead>\n",
       "  <tbody>\n",
       "    <tr>\n",
       "      <th>278</th>\n",
       "      <td>amaranta</td>\n",
       "      <td>GPE</td>\n",
       "      <td>178</td>\n",
       "      <td>PERSON</td>\n",
       "    </tr>\n",
       "    <tr>\n",
       "      <th>280</th>\n",
       "      <td>amaranta</td>\n",
       "      <td>PERSON</td>\n",
       "      <td>43</td>\n",
       "      <td>PERSON</td>\n",
       "    </tr>\n",
       "    <tr>\n",
       "      <th>279</th>\n",
       "      <td>amaranta</td>\n",
       "      <td>NORP</td>\n",
       "      <td>6</td>\n",
       "      <td>PERSON</td>\n",
       "    </tr>\n",
       "  </tbody>\n",
       "</table>\n",
       "</div>"
      ],
      "text/plain": [
       "    text_clean   label  total label_fix\n",
       "278   amaranta     GPE    178    PERSON\n",
       "280   amaranta  PERSON     43    PERSON\n",
       "279   amaranta    NORP      6    PERSON"
      ]
     },
     "execution_count": 483,
     "metadata": {},
     "output_type": "execute_result"
    }
   ],
   "source": [
    "text_entities[text_entities.text_clean == 'amaranta'] "
   ]
  },
  {
   "cell_type": "code",
   "execution_count": 484,
   "metadata": {},
   "outputs": [
    {
     "data": {
      "text/html": [
       "<div>\n",
       "<style scoped>\n",
       "    .dataframe tbody tr th:only-of-type {\n",
       "        vertical-align: middle;\n",
       "    }\n",
       "\n",
       "    .dataframe tbody tr th {\n",
       "        vertical-align: top;\n",
       "    }\n",
       "\n",
       "    .dataframe thead th {\n",
       "        text-align: right;\n",
       "    }\n",
       "</style>\n",
       "<table border=\"1\" class=\"dataframe\">\n",
       "  <thead>\n",
       "    <tr style=\"text-align: right;\">\n",
       "      <th></th>\n",
       "      <th>text_clean</th>\n",
       "      <th>label</th>\n",
       "      <th>total</th>\n",
       "      <th>label_fix</th>\n",
       "    </tr>\n",
       "  </thead>\n",
       "  <tbody>\n",
       "    <tr>\n",
       "      <th>1499</th>\n",
       "      <td>ursula</td>\n",
       "      <td>PERSON</td>\n",
       "      <td>317</td>\n",
       "      <td>PERSON</td>\n",
       "    </tr>\n",
       "    <tr>\n",
       "      <th>1497</th>\n",
       "      <td>ursula</td>\n",
       "      <td>NORP</td>\n",
       "      <td>21</td>\n",
       "      <td>PERSON</td>\n",
       "    </tr>\n",
       "    <tr>\n",
       "      <th>1495</th>\n",
       "      <td>ursula</td>\n",
       "      <td>GPE</td>\n",
       "      <td>8</td>\n",
       "      <td>PERSON</td>\n",
       "    </tr>\n",
       "    <tr>\n",
       "      <th>1500</th>\n",
       "      <td>ursula</td>\n",
       "      <td>PRODUCT</td>\n",
       "      <td>3</td>\n",
       "      <td>PERSON</td>\n",
       "    </tr>\n",
       "    <tr>\n",
       "      <th>1498</th>\n",
       "      <td>ursula</td>\n",
       "      <td>ORG</td>\n",
       "      <td>1</td>\n",
       "      <td>PERSON</td>\n",
       "    </tr>\n",
       "    <tr>\n",
       "      <th>1496</th>\n",
       "      <td>ursula</td>\n",
       "      <td>LANGUAGE</td>\n",
       "      <td>1</td>\n",
       "      <td>PERSON</td>\n",
       "    </tr>\n",
       "  </tbody>\n",
       "</table>\n",
       "</div>"
      ],
      "text/plain": [
       "     text_clean     label  total label_fix\n",
       "1499     ursula    PERSON    317    PERSON\n",
       "1497     ursula      NORP     21    PERSON\n",
       "1495     ursula       GPE      8    PERSON\n",
       "1500     ursula   PRODUCT      3    PERSON\n",
       "1498     ursula       ORG      1    PERSON\n",
       "1496     ursula  LANGUAGE      1    PERSON"
      ]
     },
     "execution_count": 484,
     "metadata": {},
     "output_type": "execute_result"
    }
   ],
   "source": [
    "text_entities[text_entities.text_clean == 'ursula'] "
   ]
  },
  {
   "cell_type": "code",
   "execution_count": 485,
   "metadata": {},
   "outputs": [
    {
     "data": {
      "text/plain": [
       "(315, 4)"
      ]
     },
     "execution_count": 485,
     "metadata": {},
     "output_type": "execute_result"
    }
   ],
   "source": [
    "text_entities[text_entities.label_fix == 'PERSON'].shape"
   ]
  },
  {
   "cell_type": "code",
   "execution_count": 486,
   "metadata": {},
   "outputs": [
    {
     "data": {
      "text/plain": [
       "label_fix\n",
       "PERSON    3296\n",
       "Name: total, dtype: int64"
      ]
     },
     "execution_count": 486,
     "metadata": {},
     "output_type": "execute_result"
    }
   ],
   "source": [
    "text_entities[text_entities.label_fix == 'PERSON'].groupby('label_fix')['total'].sum()"
   ]
  },
  {
   "cell_type": "markdown",
   "metadata": {},
   "source": [
    "### Befor vs after PERSON fix\n",
    "- 223 vs 313 unique PERSON entities\n",
    "- 2452 vs 3287 PERSON entities occurances"
   ]
  },
  {
   "cell_type": "code",
   "execution_count": 539,
   "metadata": {},
   "outputs": [],
   "source": [
    "person_fix_df = text_entities[text_entities.label_fix == 'PERSON'].groupby(['label_fix', 'text_clean']).size().reset_index(name='total').sort_values('total', ascending=False)"
   ]
  },
  {
   "cell_type": "code",
   "execution_count": 540,
   "metadata": {},
   "outputs": [
    {
     "data": {
      "text/html": [
       "<div>\n",
       "<style scoped>\n",
       "    .dataframe tbody tr th:only-of-type {\n",
       "        vertical-align: middle;\n",
       "    }\n",
       "\n",
       "    .dataframe tbody tr th {\n",
       "        vertical-align: top;\n",
       "    }\n",
       "\n",
       "    .dataframe thead th {\n",
       "        text-align: right;\n",
       "    }\n",
       "</style>\n",
       "<table border=\"1\" class=\"dataframe\">\n",
       "  <thead>\n",
       "    <tr style=\"text-align: right;\">\n",
       "      <th></th>\n",
       "      <th>label_fix</th>\n",
       "      <th>text_clean</th>\n",
       "      <th>total</th>\n",
       "    </tr>\n",
       "  </thead>\n",
       "  <tbody>\n",
       "    <tr>\n",
       "      <th>212</th>\n",
       "      <td>PERSON</td>\n",
       "      <td>ursula</td>\n",
       "      <td>6</td>\n",
       "    </tr>\n",
       "    <tr>\n",
       "      <th>78</th>\n",
       "      <td>PERSON</td>\n",
       "      <td>fernanda</td>\n",
       "      <td>5</td>\n",
       "    </tr>\n",
       "    <tr>\n",
       "      <th>139</th>\n",
       "      <td>PERSON</td>\n",
       "      <td>melquiades</td>\n",
       "      <td>5</td>\n",
       "    </tr>\n",
       "    <tr>\n",
       "      <th>27</th>\n",
       "      <td>PERSON</td>\n",
       "      <td>aureliano</td>\n",
       "      <td>5</td>\n",
       "    </tr>\n",
       "    <tr>\n",
       "      <th>56</th>\n",
       "      <td>PERSON</td>\n",
       "      <td>catarino</td>\n",
       "      <td>4</td>\n",
       "    </tr>\n",
       "  </tbody>\n",
       "</table>\n",
       "</div>"
      ],
      "text/plain": [
       "    label_fix  text_clean  total\n",
       "212    PERSON      ursula      6\n",
       "78     PERSON    fernanda      5\n",
       "139    PERSON  melquiades      5\n",
       "27     PERSON   aureliano      5\n",
       "56     PERSON    catarino      4"
      ]
     },
     "execution_count": 540,
     "metadata": {},
     "output_type": "execute_result"
    }
   ],
   "source": [
    "person_fix_df.head()"
   ]
  },
  {
   "cell_type": "code",
   "execution_count": 541,
   "metadata": {},
   "outputs": [
    {
     "data": {
      "text/plain": [
       "((224, 3), (224,))"
      ]
     },
     "execution_count": 541,
     "metadata": {},
     "output_type": "execute_result"
    }
   ],
   "source": [
    "person_fix_df.shape, person_fix_df.text_clean.unique().shape"
   ]
  },
  {
   "cell_type": "code",
   "execution_count": 542,
   "metadata": {},
   "outputs": [
    {
     "data": {
      "text/plain": [
       "(6507, 5)"
      ]
     },
     "execution_count": 542,
     "metadata": {},
     "output_type": "execute_result"
    }
   ],
   "source": [
    "entities_df.shape"
   ]
  },
  {
   "cell_type": "code",
   "execution_count": 543,
   "metadata": {},
   "outputs": [
    {
     "data": {
      "text/html": [
       "<div>\n",
       "<style scoped>\n",
       "    .dataframe tbody tr th:only-of-type {\n",
       "        vertical-align: middle;\n",
       "    }\n",
       "\n",
       "    .dataframe tbody tr th {\n",
       "        vertical-align: top;\n",
       "    }\n",
       "\n",
       "    .dataframe thead th {\n",
       "        text-align: right;\n",
       "    }\n",
       "</style>\n",
       "<table border=\"1\" class=\"dataframe\">\n",
       "  <thead>\n",
       "    <tr style=\"text-align: right;\">\n",
       "      <th></th>\n",
       "      <th>entity</th>\n",
       "      <th>text</th>\n",
       "      <th>label</th>\n",
       "      <th>pos</th>\n",
       "      <th>text_clean</th>\n",
       "    </tr>\n",
       "  </thead>\n",
       "  <tbody>\n",
       "    <tr>\n",
       "      <th>0</th>\n",
       "      <td>(Chapter, 1, \\n\\n\\n, MANY, YEARS, LATER)</td>\n",
       "      <td>Chapter 1 \\n\\n\\nMANY YEARS LATER</td>\n",
       "      <td>LAW</td>\n",
       "      <td>0</td>\n",
       "      <td>chapter 1 \\n\\n\\nmany years later</td>\n",
       "    </tr>\n",
       "    <tr>\n",
       "      <th>1</th>\n",
       "      <td>(Aureliano, Buendfa)</td>\n",
       "      <td>Aureliano Buendfa</td>\n",
       "      <td>PERSON</td>\n",
       "      <td>14</td>\n",
       "      <td>aureliano buendfa</td>\n",
       "    </tr>\n",
       "    <tr>\n",
       "      <th>2</th>\n",
       "      <td>(afternoon)</td>\n",
       "      <td>afternoon</td>\n",
       "      <td>TIME</td>\n",
       "      <td>22</td>\n",
       "      <td>afternoon</td>\n",
       "    </tr>\n",
       "    <tr>\n",
       "      <th>3</th>\n",
       "      <td>(the, bank, of, a, river)</td>\n",
       "      <td>the bank of a river</td>\n",
       "      <td>ORG</td>\n",
       "      <td>47</td>\n",
       "      <td>the bank of a river</td>\n",
       "    </tr>\n",
       "    <tr>\n",
       "      <th>4</th>\n",
       "      <td>(the, \\n, month, of, March)</td>\n",
       "      <td>the \\nmonth of March</td>\n",
       "      <td>DATE</td>\n",
       "      <td>102</td>\n",
       "      <td>the \\nmonth of march</td>\n",
       "    </tr>\n",
       "  </tbody>\n",
       "</table>\n",
       "</div>"
      ],
      "text/plain": [
       "                                     entity                              text  \\\n",
       "0  (Chapter, 1, \\n\\n\\n, MANY, YEARS, LATER)  Chapter 1 \\n\\n\\nMANY YEARS LATER   \n",
       "1                      (Aureliano, Buendfa)                 Aureliano Buendfa   \n",
       "2                               (afternoon)                         afternoon   \n",
       "3                 (the, bank, of, a, river)               the bank of a river   \n",
       "4               (the, \\n, month, of, March)              the \\nmonth of March   \n",
       "\n",
       "    label  pos                        text_clean  \n",
       "0     LAW    0  chapter 1 \\n\\n\\nmany years later  \n",
       "1  PERSON   14                 aureliano buendfa  \n",
       "2    TIME   22                         afternoon  \n",
       "3     ORG   47               the bank of a river  \n",
       "4    DATE  102              the \\nmonth of march  "
      ]
     },
     "execution_count": 543,
     "metadata": {},
     "output_type": "execute_result"
    }
   ],
   "source": [
    "entities_df.head()"
   ]
  },
  {
   "cell_type": "code",
   "execution_count": 544,
   "metadata": {},
   "outputs": [],
   "source": [
    "entities_person_fix_df = pd.merge(entities_df, person_fix_df, on='text_clean', how=\"left\")"
   ]
  },
  {
   "cell_type": "code",
   "execution_count": 545,
   "metadata": {},
   "outputs": [],
   "source": [
    "entities_person_fix_df.label_fix = entities_person_fix_df.label_fix.fillna(entities_person_fix_df.label)"
   ]
  },
  {
   "cell_type": "code",
   "execution_count": 546,
   "metadata": {},
   "outputs": [],
   "source": [
    "entities_person_fix_df = entities_person_fix_df.drop('total', axis=1)"
   ]
  },
  {
   "cell_type": "code",
   "execution_count": 547,
   "metadata": {},
   "outputs": [
    {
     "data": {
      "text/html": [
       "<div>\n",
       "<style scoped>\n",
       "    .dataframe tbody tr th:only-of-type {\n",
       "        vertical-align: middle;\n",
       "    }\n",
       "\n",
       "    .dataframe tbody tr th {\n",
       "        vertical-align: top;\n",
       "    }\n",
       "\n",
       "    .dataframe thead th {\n",
       "        text-align: right;\n",
       "    }\n",
       "</style>\n",
       "<table border=\"1\" class=\"dataframe\">\n",
       "  <thead>\n",
       "    <tr style=\"text-align: right;\">\n",
       "      <th></th>\n",
       "      <th>entity</th>\n",
       "      <th>text</th>\n",
       "      <th>label</th>\n",
       "      <th>pos</th>\n",
       "      <th>text_clean</th>\n",
       "      <th>label_fix</th>\n",
       "    </tr>\n",
       "  </thead>\n",
       "  <tbody>\n",
       "    <tr>\n",
       "      <th>0</th>\n",
       "      <td>(Chapter, 1, \\n\\n\\n, MANY, YEARS, LATER)</td>\n",
       "      <td>Chapter 1 \\n\\n\\nMANY YEARS LATER</td>\n",
       "      <td>LAW</td>\n",
       "      <td>0</td>\n",
       "      <td>chapter 1 \\n\\n\\nmany years later</td>\n",
       "      <td>LAW</td>\n",
       "    </tr>\n",
       "    <tr>\n",
       "      <th>1</th>\n",
       "      <td>(Aureliano, Buendfa)</td>\n",
       "      <td>Aureliano Buendfa</td>\n",
       "      <td>PERSON</td>\n",
       "      <td>14</td>\n",
       "      <td>aureliano buendfa</td>\n",
       "      <td>PERSON</td>\n",
       "    </tr>\n",
       "    <tr>\n",
       "      <th>2</th>\n",
       "      <td>(afternoon)</td>\n",
       "      <td>afternoon</td>\n",
       "      <td>TIME</td>\n",
       "      <td>22</td>\n",
       "      <td>afternoon</td>\n",
       "      <td>TIME</td>\n",
       "    </tr>\n",
       "    <tr>\n",
       "      <th>3</th>\n",
       "      <td>(the, bank, of, a, river)</td>\n",
       "      <td>the bank of a river</td>\n",
       "      <td>ORG</td>\n",
       "      <td>47</td>\n",
       "      <td>the bank of a river</td>\n",
       "      <td>ORG</td>\n",
       "    </tr>\n",
       "    <tr>\n",
       "      <th>4</th>\n",
       "      <td>(the, \\n, month, of, March)</td>\n",
       "      <td>the \\nmonth of March</td>\n",
       "      <td>DATE</td>\n",
       "      <td>102</td>\n",
       "      <td>the \\nmonth of march</td>\n",
       "      <td>DATE</td>\n",
       "    </tr>\n",
       "  </tbody>\n",
       "</table>\n",
       "</div>"
      ],
      "text/plain": [
       "                                     entity                              text  \\\n",
       "0  (Chapter, 1, \\n\\n\\n, MANY, YEARS, LATER)  Chapter 1 \\n\\n\\nMANY YEARS LATER   \n",
       "1                      (Aureliano, Buendfa)                 Aureliano Buendfa   \n",
       "2                               (afternoon)                         afternoon   \n",
       "3                 (the, bank, of, a, river)               the bank of a river   \n",
       "4               (the, \\n, month, of, March)              the \\nmonth of March   \n",
       "\n",
       "    label  pos                        text_clean label_fix  \n",
       "0     LAW    0  chapter 1 \\n\\n\\nmany years later       LAW  \n",
       "1  PERSON   14                 aureliano buendfa    PERSON  \n",
       "2    TIME   22                         afternoon      TIME  \n",
       "3     ORG   47               the bank of a river       ORG  \n",
       "4    DATE  102              the \\nmonth of march      DATE  "
      ]
     },
     "execution_count": 547,
     "metadata": {},
     "output_type": "execute_result"
    }
   ],
   "source": [
    "entities_person_fix_df.head()"
   ]
  },
  {
   "cell_type": "code",
   "execution_count": 548,
   "metadata": {},
   "outputs": [],
   "source": [
    "first_and_last_pos_df = entities_person_fix_df.groupby('text_clean').agg(first_pos=('pos', 'min'), last_pos=('pos', 'max'))"
   ]
  },
  {
   "cell_type": "code",
   "execution_count": 549,
   "metadata": {},
   "outputs": [
    {
     "data": {
      "text/plain": [
       "(1422, 2)"
      ]
     },
     "execution_count": 549,
     "metadata": {},
     "output_type": "execute_result"
    }
   ],
   "source": [
    "first_and_last_pos_df.shape"
   ]
  },
  {
   "cell_type": "code",
   "execution_count": 550,
   "metadata": {},
   "outputs": [],
   "source": [
    "entities_person_fix_df = pd.merge(entities_person_fix_df, first_and_last_pos_df, on='text_clean', how=\"left\")"
   ]
  },
  {
   "cell_type": "code",
   "execution_count": 551,
   "metadata": {},
   "outputs": [
    {
     "data": {
      "text/html": [
       "<div>\n",
       "<style scoped>\n",
       "    .dataframe tbody tr th:only-of-type {\n",
       "        vertical-align: middle;\n",
       "    }\n",
       "\n",
       "    .dataframe tbody tr th {\n",
       "        vertical-align: top;\n",
       "    }\n",
       "\n",
       "    .dataframe thead th {\n",
       "        text-align: right;\n",
       "    }\n",
       "</style>\n",
       "<table border=\"1\" class=\"dataframe\">\n",
       "  <thead>\n",
       "    <tr style=\"text-align: right;\">\n",
       "      <th></th>\n",
       "      <th>entity</th>\n",
       "      <th>text</th>\n",
       "      <th>label</th>\n",
       "      <th>pos</th>\n",
       "      <th>text_clean</th>\n",
       "      <th>label_fix</th>\n",
       "      <th>first_pos</th>\n",
       "      <th>last_pos</th>\n",
       "    </tr>\n",
       "  </thead>\n",
       "  <tbody>\n",
       "    <tr>\n",
       "      <th>0</th>\n",
       "      <td>(Chapter, 1, \\n\\n\\n, MANY, YEARS, LATER)</td>\n",
       "      <td>Chapter 1 \\n\\n\\nMANY YEARS LATER</td>\n",
       "      <td>LAW</td>\n",
       "      <td>0</td>\n",
       "      <td>chapter 1 \\n\\n\\nmany years later</td>\n",
       "      <td>LAW</td>\n",
       "      <td>0</td>\n",
       "      <td>0</td>\n",
       "    </tr>\n",
       "    <tr>\n",
       "      <th>1</th>\n",
       "      <td>(Aureliano, Buendfa)</td>\n",
       "      <td>Aureliano Buendfa</td>\n",
       "      <td>PERSON</td>\n",
       "      <td>14</td>\n",
       "      <td>aureliano buendfa</td>\n",
       "      <td>PERSON</td>\n",
       "      <td>14</td>\n",
       "      <td>746</td>\n",
       "    </tr>\n",
       "    <tr>\n",
       "      <th>2</th>\n",
       "      <td>(afternoon)</td>\n",
       "      <td>afternoon</td>\n",
       "      <td>TIME</td>\n",
       "      <td>22</td>\n",
       "      <td>afternoon</td>\n",
       "      <td>TIME</td>\n",
       "      <td>22</td>\n",
       "      <td>807</td>\n",
       "    </tr>\n",
       "    <tr>\n",
       "      <th>3</th>\n",
       "      <td>(the, bank, of, a, river)</td>\n",
       "      <td>the bank of a river</td>\n",
       "      <td>ORG</td>\n",
       "      <td>47</td>\n",
       "      <td>the bank of a river</td>\n",
       "      <td>ORG</td>\n",
       "      <td>47</td>\n",
       "      <td>47</td>\n",
       "    </tr>\n",
       "    <tr>\n",
       "      <th>4</th>\n",
       "      <td>(the, \\n, month, of, March)</td>\n",
       "      <td>the \\nmonth of March</td>\n",
       "      <td>DATE</td>\n",
       "      <td>102</td>\n",
       "      <td>the \\nmonth of march</td>\n",
       "      <td>DATE</td>\n",
       "      <td>102</td>\n",
       "      <td>102</td>\n",
       "    </tr>\n",
       "  </tbody>\n",
       "</table>\n",
       "</div>"
      ],
      "text/plain": [
       "                                     entity                              text  \\\n",
       "0  (Chapter, 1, \\n\\n\\n, MANY, YEARS, LATER)  Chapter 1 \\n\\n\\nMANY YEARS LATER   \n",
       "1                      (Aureliano, Buendfa)                 Aureliano Buendfa   \n",
       "2                               (afternoon)                         afternoon   \n",
       "3                 (the, bank, of, a, river)               the bank of a river   \n",
       "4               (the, \\n, month, of, March)              the \\nmonth of March   \n",
       "\n",
       "    label  pos                        text_clean label_fix  first_pos  \\\n",
       "0     LAW    0  chapter 1 \\n\\n\\nmany years later       LAW          0   \n",
       "1  PERSON   14                 aureliano buendfa    PERSON         14   \n",
       "2    TIME   22                         afternoon      TIME         22   \n",
       "3     ORG   47               the bank of a river       ORG         47   \n",
       "4    DATE  102              the \\nmonth of march      DATE        102   \n",
       "\n",
       "   last_pos  \n",
       "0         0  \n",
       "1       746  \n",
       "2       807  \n",
       "3        47  \n",
       "4       102  "
      ]
     },
     "execution_count": 551,
     "metadata": {},
     "output_type": "execute_result"
    }
   ],
   "source": [
    "entities_person_fix_pos_df.head()"
   ]
  },
  {
   "cell_type": "code",
   "execution_count": 552,
   "metadata": {},
   "outputs": [
    {
     "data": {
      "text/plain": [
       "9"
      ]
     },
     "execution_count": 552,
     "metadata": {},
     "output_type": "execute_result"
    }
   ],
   "source": [
    "entities_person_fix_pos_df.iloc[0].entity[0]._.page"
   ]
  },
  {
   "cell_type": "code",
   "execution_count": 553,
   "metadata": {},
   "outputs": [],
   "source": [
    "entities_person_fix_pos_df['page'] = entities_person_fix_pos_df.entity.apply(lambda e: e[0]._.page)"
   ]
  },
  {
   "cell_type": "code",
   "execution_count": 554,
   "metadata": {},
   "outputs": [],
   "source": [
    "first_and_last_page_df = entities_person_fix_pos_df.groupby('text_clean').agg(first_page=('page', 'min'), last_page=('page', 'max'))"
   ]
  },
  {
   "cell_type": "code",
   "execution_count": 555,
   "metadata": {},
   "outputs": [
    {
     "data": {
      "text/plain": [
       "(1422, 2)"
      ]
     },
     "execution_count": 555,
     "metadata": {},
     "output_type": "execute_result"
    }
   ],
   "source": [
    "first_and_last_page_df.shape"
   ]
  },
  {
   "cell_type": "code",
   "execution_count": 556,
   "metadata": {},
   "outputs": [],
   "source": [
    "entities_person_fix_page_df = pd.merge(entities_person_fix_pos_df, first_and_last_page_df, on='text_clean', how=\"left\")"
   ]
  },
  {
   "cell_type": "code",
   "execution_count": 626,
   "metadata": {},
   "outputs": [
    {
     "data": {
      "text/html": [
       "<div>\n",
       "<style scoped>\n",
       "    .dataframe tbody tr th:only-of-type {\n",
       "        vertical-align: middle;\n",
       "    }\n",
       "\n",
       "    .dataframe tbody tr th {\n",
       "        vertical-align: top;\n",
       "    }\n",
       "\n",
       "    .dataframe thead th {\n",
       "        text-align: right;\n",
       "    }\n",
       "</style>\n",
       "<table border=\"1\" class=\"dataframe\">\n",
       "  <thead>\n",
       "    <tr style=\"text-align: right;\">\n",
       "      <th></th>\n",
       "      <th>entity</th>\n",
       "      <th>text</th>\n",
       "      <th>label</th>\n",
       "      <th>pos</th>\n",
       "      <th>text_clean</th>\n",
       "      <th>label_fix</th>\n",
       "      <th>first_pos</th>\n",
       "      <th>last_pos</th>\n",
       "      <th>page</th>\n",
       "      <th>first_page</th>\n",
       "      <th>last_page</th>\n",
       "    </tr>\n",
       "  </thead>\n",
       "  <tbody>\n",
       "    <tr>\n",
       "      <th>640</th>\n",
       "      <td>(MACONDO)</td>\n",
       "      <td>MACONDO</td>\n",
       "      <td>ORG</td>\n",
       "      <td>824</td>\n",
       "      <td>macondo</td>\n",
       "      <td>PERSON</td>\n",
       "      <td>8</td>\n",
       "      <td>1745</td>\n",
       "      <td>29</td>\n",
       "      <td>9</td>\n",
       "      <td>199</td>\n",
       "    </tr>\n",
       "  </tbody>\n",
       "</table>\n",
       "</div>"
      ],
      "text/plain": [
       "        entity     text label  pos text_clean label_fix  first_pos  last_pos  \\\n",
       "640  (MACONDO)  MACONDO   ORG  824    macondo    PERSON          8      1745   \n",
       "\n",
       "     page  first_page  last_page  \n",
       "640    29           9        199  "
      ]
     },
     "execution_count": 626,
     "metadata": {},
     "output_type": "execute_result"
    }
   ],
   "source": [
    "entities_person_fix_page_df[entities_person_fix_page_df.text == 'MACONDO']"
   ]
  },
  {
   "cell_type": "code",
   "execution_count": 645,
   "metadata": {},
   "outputs": [],
   "source": [
    "entities_info = {}\n",
    "entities_by_page = {}\n",
    "\n",
    "for i, row in entities_person_fix_page_df.iterrows():\n",
    "    key = row['text_clean']\n",
    "    if row['label_fix'] != 'PERSON' or row['text'][0].islower():\n",
    "        continue\n",
    "        \n",
    "    if row['page'] in entities_by_page:\n",
    "        entities_by_page[row['page']].append(key)\n",
    "    else:\n",
    "        entities_by_page[row['page']] = [key]\n",
    "    \n",
    "    if key not in entities_info:\n",
    "        entities_info[key] = {\n",
    "            'first_pos': row['first_pos'],\n",
    "            'last_pos': row['last_pos'],\n",
    "            'first_page': row['first_page'],\n",
    "            'last_page': row['last_page'],\n",
    "            'type': row['label_fix'],\n",
    "            'pos': [row['pos']],\n",
    "            'pages': {row['page']},\n",
    "            'name': row['text'],\n",
    "        }\n",
    "    else:\n",
    "        entities_info[key]['pos'].append(row['pos'])\n",
    "        entities_info[key]['pages'].add(row['page'])\n",
    "        \n",
    "for k in entities_info.keys():\n",
    "    entities_info[k]['pages'] = sorted(list(entities_info[k]['pages']))\n",
    "    relations = set()\n",
    "    for p in entities_info[k]['pages']:\n",
    "        relations.update(set(entities_by_page[p]))\n",
    "    entities_info[k]['relations'] = [{'from': k, 'to': r} for r in relations if k != r]"
   ]
  },
  {
   "cell_type": "code",
   "execution_count": 646,
   "metadata": {},
   "outputs": [],
   "source": [
    "import json"
   ]
  },
  {
   "cell_type": "code",
   "execution_count": 647,
   "metadata": {},
   "outputs": [],
   "source": [
    "json.dump(entities_info, open('../data/entities_info.json', 'w'))"
   ]
  },
  {
   "cell_type": "code",
   "execution_count": 648,
   "metadata": {},
   "outputs": [
    {
     "data": {
      "text/plain": [
       "{'first_pos': 431,\n",
       " 'last_pos': 657,\n",
       " 'first_page': 49,\n",
       " 'last_page': 58,\n",
       " 'type': 'PERSON',\n",
       " 'pos': [657, 431],\n",
       " 'pages': [49, 58],\n",
       " 'name': 'Rebecca',\n",
       " 'relations': [{'from': 'rebecca', 'to': 'ursula'},\n",
       "  {'from': 'rebecca', 'to': 'rebeca'},\n",
       "  {'from': 'rebecca', 'to': 'aureliano jose'},\n",
       "  {'from': 'rebecca', 'to': 'jose arcadio buendfa'},\n",
       "  {'from': 'rebecca', 'to': 'pietro'},\n",
       "  {'from': 'rebecca', 'to': 'crespi'},\n",
       "  {'from': 'rebecca', 'to': 'amaranta'},\n",
       "  {'from': 'rebecca', 'to': 'bmno crespi'},\n",
       "  {'from': 'rebecca', 'to': 'nicanor'},\n",
       "  {'from': 'rebecca', 'to': 'catarino'},\n",
       "  {'from': 'rebecca', 'to': 'jose arcadio'},\n",
       "  {'from': 'rebecca', 'to': 'aureliano'},\n",
       "  {'from': 'rebecca', 'to': 'arcadio'},\n",
       "  {'from': 'rebecca', 'to': 'pietro crespi'}]}"
      ]
     },
     "execution_count": 648,
     "metadata": {},
     "output_type": "execute_result"
    }
   ],
   "source": [
    "entities_info['rebecca']"
   ]
  },
  {
   "cell_type": "code",
   "execution_count": null,
   "metadata": {},
   "outputs": [],
   "source": []
  }
 ],
 "metadata": {
  "kernelspec": {
   "display_name": "Python 3",
   "language": "python",
   "name": "python3"
  },
  "language_info": {
   "codemirror_mode": {
    "name": "ipython",
    "version": 3
   },
   "file_extension": ".py",
   "mimetype": "text/x-python",
   "name": "python",
   "nbconvert_exporter": "python",
   "pygments_lexer": "ipython3",
   "version": "3.7.0"
  }
 },
 "nbformat": 4,
 "nbformat_minor": 4
}
