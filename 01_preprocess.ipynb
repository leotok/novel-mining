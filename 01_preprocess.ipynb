{
 "cells": [
  {
   "cell_type": "markdown",
   "metadata": {},
   "source": [
    "# Relationship network extraction"
   ]
  },
  {
   "cell_type": "markdown",
   "metadata": {},
   "source": [
    "### References:\n",
    "\n",
    "- https://archive.org/stream/OneHundredYearsOfSolitude_201710/One_Hundred_Years_of_Solitude_djvu.txt\n",
    "- https://spacy.io/usage/spacy-101\n",
    "- https://spacy.io/api/annotation#named-entities"
   ]
  },
  {
   "cell_type": "code",
   "execution_count": 1,
   "metadata": {},
   "outputs": [],
   "source": [
    "import pandas as pd\n",
    "import re\n",
    "import spacy"
   ]
  },
  {
   "cell_type": "code",
   "execution_count": 2,
   "metadata": {},
   "outputs": [],
   "source": [
    "def get_chapters(book: str) -> [str]:\n",
    "    return [c.strip() for c in re.split('Chapter \\d', book)][1:]\n",
    "\n",
    "def get_pages(book):\n",
    "    pagination_map = [int(p) for p in re.findall('\\n(\\d+) \\\\n?', book)]\n",
    "    pages = re.split('\\n\\d+ \\\\n', book)\n",
    "    return pages, pagination_map\n",
    "\n",
    "def get_token_to_page_map(book):\n",
    "    pass"
   ]
  },
  {
   "cell_type": "markdown",
   "metadata": {},
   "source": [
    "## Load book"
   ]
  },
  {
   "cell_type": "code",
   "execution_count": 3,
   "metadata": {},
   "outputs": [],
   "source": [
    "book_path = 'data/one_hundred_years_of_solitude_EN.txt'\n",
    "\n",
    "with open(book_path, 'r') as f:\n",
    "    book = f.read()"
   ]
  },
  {
   "cell_type": "markdown",
   "metadata": {},
   "source": [
    "## Parsing"
   ]
  },
  {
   "cell_type": "code",
   "execution_count": 4,
   "metadata": {},
   "outputs": [],
   "source": [
    "nlp = spacy.load(\"en_core_web_sm\")"
   ]
  },
  {
   "cell_type": "code",
   "execution_count": 5,
   "metadata": {},
   "outputs": [],
   "source": [
    "book_doc = nlp(book)"
   ]
  },
  {
   "cell_type": "code",
   "execution_count": 6,
   "metadata": {},
   "outputs": [],
   "source": [
    "pages, pagination_map = get_pages(book)\n",
    "chapters = get_chapters(book)"
   ]
  },
  {
   "cell_type": "code",
   "execution_count": 7,
   "metadata": {},
   "outputs": [
    {
     "name": "stdout",
     "output_type": "stream",
     "text": [
      "Nº chapters: 20\n",
      "Nº pages: 192\n",
      "Nº sentences: 6687\n",
      "Vocabulary size: 10006\n",
      "Nº tokens: 171099\n",
      "Nº characters: 821643\n"
     ]
    }
   ],
   "source": [
    "print (f'Nº chapters: {len(chapters)}')\n",
    "print (f'Nº pages: {len(pages)}')\n",
    "print(f'Nº sentences: {len(list(book_doc.sents))}')\n",
    "print(f'Vocabulary size: {book_doc.vocab.length}')\n",
    "print(f'Nº tokens: {len(book_doc)}')\n",
    "print(f'Nº characters: {len(book)}')"
   ]
  },
  {
   "cell_type": "markdown",
   "metadata": {},
   "source": [
    "## Token identification"
   ]
  },
  {
   "cell_type": "code",
   "execution_count": 8,
   "metadata": {},
   "outputs": [
    {
     "data": {
      "text/plain": [
       "(THE, 6398231955146299758, 821629)"
      ]
     },
     "execution_count": 8,
     "metadata": {},
     "output_type": "execute_result"
    }
   ],
   "source": [
    "idx = 171094\n",
    "book_doc[idx], book_doc[idx].orth, book_doc[idx].idx"
   ]
  },
  {
   "cell_type": "code",
   "execution_count": 9,
   "metadata": {},
   "outputs": [
    {
     "data": {
      "text/plain": [
       "(END, 14349458037152488889, 821633)"
      ]
     },
     "execution_count": 9,
     "metadata": {},
     "output_type": "execute_result"
    }
   ],
   "source": [
    "idx = 171095\n",
    "book_doc[idx], book_doc[idx].orth, book_doc[idx].idx"
   ]
  },
  {
   "cell_type": "code",
   "execution_count": 10,
   "metadata": {},
   "outputs": [
    {
     "data": {
      "text/plain": [
       "'END'"
      ]
     },
     "execution_count": 10,
     "metadata": {},
     "output_type": "execute_result"
    }
   ],
   "source": [
    "book_doc.vocab.strings[14349458037152488889]"
   ]
  },
  {
   "cell_type": "code",
   "execution_count": 11,
   "metadata": {},
   "outputs": [
    {
     "data": {
      "text/plain": [
       "3228277545756960083"
      ]
     },
     "execution_count": 11,
     "metadata": {},
     "output_type": "execute_result"
    }
   ],
   "source": [
    "book_doc.vocab.strings['Aureliano']"
   ]
  },
  {
   "cell_type": "code",
   "execution_count": 12,
   "metadata": {},
   "outputs": [
    {
     "name": "stdout",
     "output_type": "stream",
     "text": [
      "3228277545756960083 14\n",
      "3228277545756960083 2168\n"
     ]
    }
   ],
   "source": [
    "found = 0\n",
    "for i, t in enumerate(book_doc):\n",
    "    if t.text == 'Aureliano':\n",
    "        print(t.orth, i)\n",
    "        found += 1\n",
    "    if found == 2:\n",
    "        break"
   ]
  },
  {
   "cell_type": "code",
   "execution_count": 13,
   "metadata": {},
   "outputs": [
    {
     "data": {
      "text/plain": [
       "(Aureliano, Aureliano)"
      ]
     },
     "execution_count": 13,
     "metadata": {},
     "output_type": "execute_result"
    }
   ],
   "source": [
    "book_doc[14], book_doc[2168]"
   ]
  },
  {
   "cell_type": "markdown",
   "metadata": {},
   "source": [
    "## Entities"
   ]
  },
  {
   "cell_type": "markdown",
   "metadata": {},
   "source": [
    "### Most mentioned characters"
   ]
  },
  {
   "cell_type": "code",
   "execution_count": 24,
   "metadata": {},
   "outputs": [],
   "source": [
    "from collections import defaultdict\n",
    "\n",
    "entities = defaultdict(list)\n",
    "entities_count = defaultdict(int)\n",
    "\n",
    "for ent in book_doc.ents:\n",
    "    if ent.label_ == 'PERSON':\n",
    "        entities[ent.text].append(ent)\n",
    "        entities_count[ent.text] += 1"
   ]
  },
  {
   "cell_type": "code",
   "execution_count": 25,
   "metadata": {},
   "outputs": [
    {
     "data": {
      "text/html": [
       "<div>\n",
       "<style scoped>\n",
       "    .dataframe tbody tr th:only-of-type {\n",
       "        vertical-align: middle;\n",
       "    }\n",
       "\n",
       "    .dataframe tbody tr th {\n",
       "        vertical-align: top;\n",
       "    }\n",
       "\n",
       "    .dataframe thead th {\n",
       "        text-align: right;\n",
       "    }\n",
       "</style>\n",
       "<table border=\"1\" class=\"dataframe\">\n",
       "  <thead>\n",
       "    <tr style=\"text-align: right;\">\n",
       "      <th></th>\n",
       "      <th>name</th>\n",
       "      <th>count</th>\n",
       "    </tr>\n",
       "  </thead>\n",
       "  <tbody>\n",
       "    <tr>\n",
       "      <th>10</th>\n",
       "      <td>Ursula</td>\n",
       "      <td>314</td>\n",
       "    </tr>\n",
       "    <tr>\n",
       "      <th>20</th>\n",
       "      <td>Aureliano</td>\n",
       "      <td>244</td>\n",
       "    </tr>\n",
       "    <tr>\n",
       "      <th>113</th>\n",
       "      <td>Aureliano Segundo</td>\n",
       "      <td>142</td>\n",
       "    </tr>\n",
       "    <tr>\n",
       "      <th>19</th>\n",
       "      <td>Aureliano Buendia</td>\n",
       "      <td>132</td>\n",
       "    </tr>\n",
       "    <tr>\n",
       "      <th>12</th>\n",
       "      <td>Jose Arcadio</td>\n",
       "      <td>131</td>\n",
       "    </tr>\n",
       "    <tr>\n",
       "      <th>31</th>\n",
       "      <td>Rebeca</td>\n",
       "      <td>114</td>\n",
       "    </tr>\n",
       "    <tr>\n",
       "      <th>2</th>\n",
       "      <td>Jose Arcadio Buendia</td>\n",
       "      <td>98</td>\n",
       "    </tr>\n",
       "    <tr>\n",
       "      <th>1</th>\n",
       "      <td>Melquiades</td>\n",
       "      <td>75</td>\n",
       "    </tr>\n",
       "    <tr>\n",
       "      <th>154</th>\n",
       "      <td>Amaranta Ursula</td>\n",
       "      <td>71</td>\n",
       "    </tr>\n",
       "    <tr>\n",
       "      <th>98</th>\n",
       "      <td>Jose Arcadio Segundo</td>\n",
       "      <td>69</td>\n",
       "    </tr>\n",
       "    <tr>\n",
       "      <th>9</th>\n",
       "      <td>Arcadio</td>\n",
       "      <td>67</td>\n",
       "    </tr>\n",
       "    <tr>\n",
       "      <th>133</th>\n",
       "      <td>Fernanda</td>\n",
       "      <td>61</td>\n",
       "    </tr>\n",
       "    <tr>\n",
       "      <th>57</th>\n",
       "      <td>Pietro Crespi</td>\n",
       "      <td>61</td>\n",
       "    </tr>\n",
       "    <tr>\n",
       "      <th>61</th>\n",
       "      <td>Gerineldo Marquez</td>\n",
       "      <td>56</td>\n",
       "    </tr>\n",
       "    <tr>\n",
       "      <th>151</th>\n",
       "      <td>Meme</td>\n",
       "      <td>45</td>\n",
       "    </tr>\n",
       "    <tr>\n",
       "      <th>65</th>\n",
       "      <td>Amaranta</td>\n",
       "      <td>44</td>\n",
       "    </tr>\n",
       "    <tr>\n",
       "      <th>77</th>\n",
       "      <td>Aureliano Jose</td>\n",
       "      <td>33</td>\n",
       "    </tr>\n",
       "    <tr>\n",
       "      <th>8</th>\n",
       "      <td>Jose</td>\n",
       "      <td>29</td>\n",
       "    </tr>\n",
       "    <tr>\n",
       "      <th>197</th>\n",
       "      <td>Gaston</td>\n",
       "      <td>26</td>\n",
       "    </tr>\n",
       "    <tr>\n",
       "      <th>73</th>\n",
       "      <td>Nicanor</td>\n",
       "      <td>26</td>\n",
       "    </tr>\n",
       "  </tbody>\n",
       "</table>\n",
       "</div>"
      ],
      "text/plain": [
       "                     name  count\n",
       "10                 Ursula    314\n",
       "20              Aureliano    244\n",
       "113     Aureliano Segundo    142\n",
       "19      Aureliano Buendia    132\n",
       "12           Jose Arcadio    131\n",
       "31                 Rebeca    114\n",
       "2    Jose Arcadio Buendia     98\n",
       "1              Melquiades     75\n",
       "154       Amaranta Ursula     71\n",
       "98   Jose Arcadio Segundo     69\n",
       "9                 Arcadio     67\n",
       "133              Fernanda     61\n",
       "57          Pietro Crespi     61\n",
       "61      Gerineldo Marquez     56\n",
       "151                  Meme     45\n",
       "65               Amaranta     44\n",
       "77         Aureliano Jose     33\n",
       "8                    Jose     29\n",
       "197                Gaston     26\n",
       "73                Nicanor     26"
      ]
     },
     "execution_count": 25,
     "metadata": {},
     "output_type": "execute_result"
    }
   ],
   "source": [
    "pd.DataFrame(zip(entities_count.keys(), entities_count.values()), columns=['name', 'count']).sort_values('count', ascending=False).head(20)"
   ]
  },
  {
   "cell_type": "markdown",
   "metadata": {},
   "source": [
    "### Entity refenrece in the text"
   ]
  },
  {
   "cell_type": "code",
   "execution_count": 30,
   "metadata": {},
   "outputs": [
    {
     "data": {
      "text/plain": [
       "[159, 260, 667, 774, 1706, 1788, 2323, 2399, 2482, 2818]"
      ]
     },
     "execution_count": 30,
     "metadata": {},
     "output_type": "execute_result"
    }
   ],
   "source": [
    "[e.start for e in entities['Melquiades'][:10]]"
   ]
  },
  {
   "cell_type": "code",
   "execution_count": 37,
   "metadata": {},
   "outputs": [],
   "source": [
    "span = entities['Melquiades'][0]\n",
    "token = span[0]"
   ]
  },
  {
   "cell_type": "code",
   "execution_count": 48,
   "metadata": {},
   "outputs": [
    {
     "data": {
      "text/plain": [
       "Melquiades"
      ]
     },
     "execution_count": 48,
     "metadata": {},
     "output_type": "execute_result"
    }
   ],
   "source": [
    "book_doc[span.start]"
   ]
  },
  {
   "cell_type": "markdown",
   "metadata": {},
   "source": [
    "### POS tags in the text"
   ]
  },
  {
   "cell_type": "code",
   "execution_count": 58,
   "metadata": {},
   "outputs": [],
   "source": [
    "pos_tags = [\n",
    "    'ADJ', 'ADP', 'ADV', 'AUX', 'CCONJ', 'DET', 'INTJ', 'NOUN', 'NUM', \n",
    "    'PART', 'PRON', 'PROPN', 'PUNCT', 'SCONJ', 'SPACE', 'SYM', 'VERB', 'X'\n",
    "]"
   ]
  },
  {
   "cell_type": "code",
   "execution_count": 79,
   "metadata": {},
   "outputs": [
    {
     "name": "stdout",
     "output_type": "stream",
     "text": [
      "he\n",
      "him\n",
      "them\n",
      "it\n",
      "they\n",
      "they\n",
      "who\n",
      "himself\n",
      "what\n",
      "he\n"
     ]
    }
   ],
   "source": [
    "i = 0\n",
    "for token in book_doc:\n",
    "    if token.pos_ == 'PRON':\n",
    "        print (token)\n",
    "        i += 1\n",
    "    if i == 10:\n",
    "        break"
   ]
  },
  {
   "cell_type": "code",
   "execution_count": 112,
   "metadata": {},
   "outputs": [
    {
     "name": "stdout",
     "output_type": "stream",
     "text": [
      "he [he]\n",
      "the firing squad [the, firing, squad]\n",
      "Colonel Aureliano Buendfa [Colonel, Aureliano, Buendfa]\n",
      "distant afternoon [distant, afternoon, when, his, father, took, him, to, discover, ice]\n",
      "his father [his, father]\n",
      "him [him]\n",
      "ice [ice]\n",
      "that time [that, time]\n",
      "Macondo [Macondo]\n",
      "a village [a, village, of, \n",
      ", twenty, adobe, houses, ,, built, on, the, bank, of, a, river, of, clear, water, that, ran, along, a, bed, of, polished, \n",
      ", stones, ,, which, were, white, and, enormous, ,, like, prehistoric, eggs]\n"
     ]
    }
   ],
   "source": [
    "i = 0\n",
    "for nc in book_doc.noun_chunks:\n",
    "    print (nc, list(nc.subtree))\n",
    "    i += 1\n",
    "    if i == 10:\n",
    "        break"
   ]
  },
  {
   "cell_type": "code",
   "execution_count": 116,
   "metadata": {},
   "outputs": [
    {
     "name": "stdout",
     "output_type": "stream",
     "text": [
      "0 Chapter 1 \n",
      "\n",
      "\n",
      "MANY YEARS LATER as he faced the firing squad.\n",
      "1 Colonel Aureliano Buendfa was to remember that \n",
      "distant afternoon when his father took him to discover ice.\n",
      "2 At that time Macondo was a village of \n",
      "twenty adobe houses, built on the bank of a river of clear water that ran along a bed of polished \n",
      "stones, which were white and enormous, like prehistoric eggs.\n",
      "3 The world was so recent that many \n",
      "things lacked names, and in order to indicate them it was necessary to point.\n",
      "4 Every year during the \n",
      "month of March a family of ragged gypsies would set up their tents near the village, and with a great \n",
      "uproar of pipes and kettledrums they would display new inventions.\n",
      "5 First they brought the magnet. \n",
      "\n",
      "6 A heavy gypsy with an untamed beard and sparrow hands, who introduced himself as Melquiades, \n",
      "put on a bold public demonstration of what he himself called the eighth wonder of the learned al¬ \n",
      "chemists of Macedonia.\n",
      "7 He went from house to house dragging two metal ingots and everybody was \n",
      "amazed to see pots, pans, tongs, and braziers tumble down from their places and beams creak from \n",
      "\n",
      "8 the desperation of nails and screws trying to emerge, and even objects that had been lost for a long \n",
      "time appeared from where they had been searched for most and went dragging along in turbulent \n",
      "confusion behind Melquiades’ magical irons.\n",
      "9 “Things have a life of their own,” the gypsy proclaimed \n",
      "with a harsh accent.\n"
     ]
    }
   ],
   "source": [
    "i = 0\n",
    "for s in book_doc.sents:\n",
    "    print (i, s)\n",
    "    i += 1\n",
    "    if i == 10:\n",
    "        break"
   ]
  },
  {
   "cell_type": "code",
   "execution_count": 118,
   "metadata": {},
   "outputs": [
    {
     "data": {
      "text/plain": [
       "[Things, a life, the gypsy, a harsh accent]"
      ]
     },
     "execution_count": 118,
     "metadata": {},
     "output_type": "execute_result"
    }
   ],
   "source": [
    "s.noun_chunks\n"
   ]
  },
  {
   "cell_type": "code",
   "execution_count": null,
   "metadata": {},
   "outputs": [],
   "source": []
  }
 ],
 "metadata": {
  "kernelspec": {
   "display_name": "Python 3",
   "language": "python",
   "name": "python3"
  },
  "language_info": {
   "codemirror_mode": {
    "name": "ipython",
    "version": 3
   },
   "file_extension": ".py",
   "mimetype": "text/x-python",
   "name": "python",
   "nbconvert_exporter": "python",
   "pygments_lexer": "ipython3",
   "version": "3.7.0"
  }
 },
 "nbformat": 4,
 "nbformat_minor": 4
}
